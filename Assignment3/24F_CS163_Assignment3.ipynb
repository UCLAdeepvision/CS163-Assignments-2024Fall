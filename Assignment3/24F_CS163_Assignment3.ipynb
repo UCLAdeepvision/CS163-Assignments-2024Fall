{
  "cells": [
    {
      "cell_type": "markdown",
      "metadata": {
        "collapsed": true,
        "id": "31XHfIbPF1qz"
      },
      "source": [
        "# Assignment3\n",
        "\n",
        "Welcome to the third assignment! We're excited to see what you'll create using the techniques you've learned in this course.\n",
        "\n",
        "First of all, please type your name and UID in the following format:\n",
        "\n",
        "Firstname Lastname, #UID\n",
        "\n",
        "In this assignment we will write a Vision Transformer, and use it for classification on Miniplaces, and semantic segmentation on Oxford-IIIT Pets"
      ]
    },
    {
      "cell_type": "code",
      "execution_count": null,
      "metadata": {
        "id": "wpk4pVqZfmrP"
      },
      "outputs": [],
      "source": [
        "#@title Your Info { display-mode: \"form\" }\n",
        "\n",
        "Name = '' #@param {type:\"string\"}\n",
        "UID = '' #@param {type:\"string\"}"
      ]
    },
    {
      "cell_type": "markdown",
      "metadata": {
        "id": "X42ej8ZhF1q4"
      },
      "source": [
        "## Goals\n",
        "The goals of this assignment are to:\n",
        "\n",
        "1. Build a Vision Transformer (ViT) from scratch .\n",
        "2. Build a Semantic Segmentation model using a ViT encoder\n",
        "\n",
        "By the end of this assignment, you will have gained experience with:\n",
        "\n",
        "- Working with PyTorch and the MiniPlaces dataset for image classification.\n",
        "- Implementing and training different types of neural networks using PyTorch.\n",
        "- Debugging and troubleshooting issues that may arise during the development process.\n",
        "\n",
        "Please note that it may take some time to run the entire notebook and prepare the submission version. Make sure to allocate enough time for this task and start early. If you have any questions or run into any issues, please feel free to raise them in the Piazza forum or search the internet for debugging purposes. However, please do not directly copy code from other sources.\n",
        "\n",
        "This assignment is due on ***Sunday, Nov 24th***.\n",
        "\n",
        "**Do not use any Code AI to finish the assignment.**\n",
        "\n",
        "\n",
        "Good luck and happy coding! Remember, the most important thing is to have fun and learn something new.\n",
        "\n",
        "\n"
      ]
    },
    {
      "cell_type": "markdown",
      "metadata": {
        "id": "_L6ZjCc5F1q5"
      },
      "source": [
        "## Setup Code\n"
      ]
    },
    {
      "cell_type": "markdown",
      "metadata": {
        "id": "OKJx4TLuF1q5"
      },
      "source": [
        "To begin, you will need to download the MiniPlaces dataset using the provided link.\n",
        "\n",
        "-----\n",
        "\n",
        "\n",
        "Recall the introduction about the storage system of CoLab we went through in the assignment 1. For efficient development of our models, we will still use the temporary storage space to hold our data. This means that every time you open up this notebook, we will need to re-download and process the dataset. Don't worry though - this shouldn't take long, usually just a minute or less. Okay, let's get started!"
      ]
    },
    {
      "cell_type": "code",
      "execution_count": null,
      "metadata": {
        "id": "MNtgNN3FF1q6"
      },
      "outputs": [],
      "source": [
        "!pip install einops\n",
        "# Downloading this file takes about a few seconds.\n",
        "# Download the tar.gz file from google drive using its file ID.\n",
        "!pip3 install --upgrade gdown --quiet\n",
        "!wget https://web.cs.ucla.edu/~smo3/data.tar.gz\n"
      ]
    },
    {
      "cell_type": "code",
      "execution_count": null,
      "metadata": {
        "id": "tB8tvZhIF1q9"
      },
      "outputs": [],
      "source": [
        "import os\n",
        "import tarfile\n",
        "from tqdm import tqdm\n",
        "import urllib.request\n",
        "\n",
        "def setup(file_link_dict={},\n",
        "          folder_name='Assignment3'):\n",
        "  # Let's make our assignment directory\n",
        "  CS163_path = './'\n",
        "  os.makedirs(os.path.join(CS163_path, 'Assignment3', 'data'), exist_ok=True)\n",
        "  # Now, let's specify the assignment path we will be working with as the root.\n",
        "  root_dir = os.path.join(CS163_path, 'Assignment3')\n",
        "  # Open the tar.gz file\n",
        "  tar = tarfile.open(\"data.tar.gz\", \"r:gz\")\n",
        "  # Extract the file \"./Assignment3/data\" folder\n",
        "  total_size = sum(f.size for f in tar.getmembers())\n",
        "  with tqdm(total=total_size, unit=\"B\", unit_scale=True, desc=\"Extracting tar.gz file\") as pbar:\n",
        "      for member in tar.getmembers():\n",
        "          tar.extract(member, os.path.join(root_dir, 'data'))\n",
        "          pbar.update(member.size)\n",
        "  # Close the tar.gz file\n",
        "  tar.close()\n",
        "  # Next, we download the train/val/test txt files:\n",
        "  for file_name, file_link in file_link_dict.items():\n",
        "      print(f'Downloding {file_name}.txt from {file_link}')\n",
        "      urllib.request.urlretrieve(file_link, f'{root_dir}/data/{file_name}.txt')\n",
        "  return root_dir"
      ]
    },
    {
      "cell_type": "code",
      "execution_count": null,
      "metadata": {
        "id": "wx-2pvciF1q-"
      },
      "outputs": [],
      "source": [
        "\n",
        "val_url = 'https://raw.githubusercontent.com/CSAILVision/miniplaces/master/data/val.txt'\n",
        "train_url = 'https://raw.githubusercontent.com/CSAILVision/miniplaces/master/data/train.txt'\n",
        "root_dir = setup(\n",
        "    file_link_dict={'train':train_url, 'val':val_url},\n",
        "    folder_name='Assignment3')"
      ]
    },
    {
      "cell_type": "markdown",
      "metadata": {
        "id": "D4MyTph9F1q_"
      },
      "source": [
        "### Define the data transform\n"
      ]
    },
    {
      "cell_type": "code",
      "execution_count": null,
      "metadata": {
        "id": "1v9w2JugF1rA"
      },
      "outputs": [],
      "source": [
        "from torchvision import transforms\n",
        "import torch\n",
        "\n",
        "image_net_mean = torch.Tensor([0.485, 0.456, 0.406])\n",
        "image_net_std = torch.Tensor([0.229, 0.224, 0.225])\n",
        "\n",
        "# Notice we are resize images to 128x128 instead of 64x64.\n",
        "data_transform = transforms.Compose([\n",
        "    transforms.Resize([128, 128]),\n",
        "    transforms.ToTensor(),\n",
        "    transforms.Normalize(image_net_mean, image_net_std),\n",
        "])\n"
      ]
    },
    {
      "cell_type": "markdown",
      "metadata": {
        "id": "YXrmPXGEF1rB"
      },
      "source": [
        "### Define the dataset and dataloader"
      ]
    },
    {
      "cell_type": "code",
      "execution_count": null,
      "metadata": {
        "id": "KoHHge5YF1rB"
      },
      "outputs": [],
      "source": [
        "# You can copy your dataset from Assignment2.\n",
        "from einops import rearrange, repeat\n",
        "from einops.layers.torch import Rearrange\n",
        "import os\n",
        "import torch.nn as nn\n",
        "from torch.utils.data import Dataset\n",
        "from PIL import Image\n",
        "import numpy as np\n",
        "\n",
        "class MiniPlaces(Dataset):\n",
        "    def __init__(self, root_dir, split, transform=None, label_dict=None):\n",
        "        \"\"\"\n",
        "        Initialize the MiniPlaces dataset with the root directory for the images,\n",
        "        the split (train/val/test), an optional data transformation,\n",
        "        and an optional label dictionary.\n",
        "\n",
        "        Args:\n",
        "            root_dir (str): Root directory for the MiniPlaces images.\n",
        "            split (str): Split to use ('train', 'val', or 'test').\n",
        "            transform (callable, optional): Optional data transformation to apply to the images.\n",
        "            label_dict (dict, optional): Optional dictionary mapping integer labels to class names.\n",
        "        \"\"\"\n",
        "        assert split in ['train', 'val', 'test']\n",
        "        self.root_dir = root_dir\n",
        "        self.split = split\n",
        "        self.transform = transform\n",
        "        self.filenames = []\n",
        "        self.labels = []\n",
        "\n",
        "        self.label_dict = label_dict if label_dict is not None else {}\n",
        "\n",
        "        with open(f'{root_dir}/{split}.txt', 'r') as f:\n",
        "            lines = f.readlines()\n",
        "\n",
        "        for line in lines:\n",
        "            image_path, label = line.split(' ')\n",
        "            label = int(label)\n",
        "            self.filenames.append(image_path)\n",
        "            self.labels.append(label)\n",
        "            if split == 'train':\n",
        "                self.label_dict[label] = image_path.split('/')[-2]\n",
        "\n",
        "    def __len__(self):\n",
        "        \"\"\"\n",
        "        Return the number of images in the dataset.\n",
        "\n",
        "        Returns:\n",
        "            int: Number of images in the dataset.\n",
        "        \"\"\"\n",
        "        return len(self.filenames)\n",
        "\n",
        "    def __getitem__(self, idx):\n",
        "        \"\"\"\n",
        "        Return a single image and its corresponding label when given an index.\n",
        "\n",
        "        Args:\n",
        "            idx (int): Index of the image to retrieve.\n",
        "\n",
        "        Returns:\n",
        "            tuple: Tuple containing the image and its label.\n",
        "        \"\"\"\n",
        "        label = self.labels[idx]\n",
        "        image_path = self.filenames[idx]\n",
        "        image = Image.open(os.path.join(self.root_dir, f'images/{image_path}'))\n",
        "        image = self.transform(image)\n",
        "\n",
        "        return image, label"
      ]
    },
    {
      "cell_type": "markdown",
      "metadata": {
        "id": "B_th2HTIF1rC"
      },
      "source": [
        "### Define the train method"
      ]
    },
    {
      "cell_type": "code",
      "execution_count": null,
      "metadata": {
        "id": "kfX-uwDDF1rC"
      },
      "outputs": [],
      "source": [
        "def train(model, train_loader, val_loader, optimizer, criterion, device, num_epochs):\n",
        "    \"\"\"\n",
        "    Train the MLP classifier on the training set and evaluate it on the validation set every epoch.\n",
        "\n",
        "    Args:\n",
        "        model (MLP): MLP classifier to train.\n",
        "        train_loader (torch.utils.data.DataLoader): Data loader for the training set.\n",
        "        val_loader (torch.utils.data.DataLoader): Data loader for the validation set.\n",
        "        optimizer (torch.optim.Optimizer): Optimizer to use for training.\n",
        "        criterion (callable): Loss function to use for training.\n",
        "        device (torch.device): Device to use for training.\n",
        "        num_epochs (int): Number of epochs to train the model.\n",
        "    \"\"\"\n",
        "    # Place model on device\n",
        "    model = model.to(device)\n",
        "\n",
        "    for epoch in range(num_epochs):\n",
        "        model.train()  # Set model to training mode\n",
        "\n",
        "        # Use tqdm to display a progress bar during training\n",
        "        with tqdm(total=len(train_loader), desc=f'Epoch {epoch + 1}/{num_epochs}') as pbar:\n",
        "            for inputs, labels in train_loader:\n",
        "                # Move inputs and labels to device\n",
        "                inputs = inputs.to(device)\n",
        "                labels = labels.to(device)\n",
        "\n",
        "                # Zero out gradients\n",
        "                optimizer.zero_grad()\n",
        "\n",
        "                # Compute the logits and loss\n",
        "                logits = model(inputs)\n",
        "                loss = criterion(logits, labels)\n",
        "\n",
        "                # Backpropagate the loss\n",
        "                loss.backward()\n",
        "\n",
        "                # Update the weights\n",
        "                optimizer.step()\n",
        "\n",
        "                # Update the progress bar\n",
        "                pbar.update(1)\n",
        "                pbar.set_postfix(loss=loss.item())\n",
        "\n",
        "        # Evaluate the model on the validation set\n",
        "        avg_loss, accuracy = evaluate(model, val_loader, criterion, device)\n",
        "        print(f'Validation set: Average loss = {avg_loss:.4f}, Accuracy = {accuracy:.4f}')\n",
        "\n",
        "def evaluate(model, test_loader, criterion, device):\n",
        "    \"\"\"\n",
        "    Evaluate the MLP classifier on the test set.\n",
        "\n",
        "    Args:\n",
        "        model (MLP): MLP classifier to evaluate.\n",
        "        test_loader (torch.utils.data.DataLoader): Data loader for the test set.\n",
        "        criterion (callable): Loss function to use for evaluation.\n",
        "        device (torch.device): Device to use for evaluation.\n",
        "\n",
        "    Returns:\n",
        "        float: Average loss on the test set.\n",
        "        float: Accuracy on the test set.\n",
        "    \"\"\"\n",
        "    model.eval()  # Set model to evaluation mode\n",
        "\n",
        "    with torch.no_grad():\n",
        "        total_loss = 0.0\n",
        "        num_correct = 0\n",
        "        num_samples = 0\n",
        "\n",
        "        for inputs, labels in test_loader:\n",
        "            # Move inputs and labels to device\n",
        "            inputs = inputs.to(device)\n",
        "            labels = labels.to(device)\n",
        "\n",
        "            # Compute the logits and loss\n",
        "            logits = model(inputs)\n",
        "            loss = criterion(logits, labels)\n",
        "            total_loss += loss.item()\n",
        "\n",
        "            # Compute the accuracy\n",
        "            _, predictions = torch.max(logits, dim=1)\n",
        "            num_correct += (predictions == labels).sum().item()\n",
        "            num_samples += len(inputs)\n",
        "\n",
        "    # Compute the average loss and accuracy\n",
        "    avg_loss = total_loss / len(test_loader)\n",
        "    accuracy = num_correct / num_samples\n",
        "\n",
        "    return avg_loss, accuracy"
      ]
    },
    {
      "cell_type": "code",
      "execution_count": null,
      "metadata": {
        "id": "z2Z9TE_UF1rF"
      },
      "outputs": [],
      "source": [
        "def compute_distances_no_loops(x_train, x_test):\n",
        "  num_train = x_train.shape[0]\n",
        "  num_test = x_test.shape[0]\n",
        "  dists = x_train.new_zeros(num_train, num_test)\n",
        "\n",
        "  A = x_train.reshape(num_train,-1)\n",
        "  B = x_test.reshape(num_test,-1)\n",
        "  AB2 = A.mm(B.T)*2\n",
        "  dists = ((A**2).sum(dim = 1).reshape(-1,1) - AB2 + (B**2).sum(dim = 1).reshape(1,-1))**(1/2)\n",
        "  return dists\n",
        "\n",
        "def predict_labels(dists, y_train, k=1):\n",
        "  num_train, num_test = dists.shape\n",
        "  y_pred = torch.zeros(num_test, dtype=torch.int64)\n",
        "\n",
        "  values, indices = torch.topk(dists, k, dim=0, largest=False)\n",
        "  for i in range(indices.shape[1]):\n",
        "    _, idx = torch.max(y_train[indices[:,i]].bincount(), dim = 0)\n",
        "    y_pred[i] = idx\n",
        "  return indices, y_pred\n",
        "\n",
        "class KnnClassifier:\n",
        "  def __init__(self, x_train, y_train):\n",
        "    self.x_train = x_train\n",
        "    self.y_train = y_train\n",
        "\n",
        "  def predict(self, x_test, k=1):\n",
        "    y_test_pred = None\n",
        "\n",
        "    dists = compute_distances_no_loops(self.x_train, x_test)\n",
        "    _, y_test_pred =  predict_labels(dists, self.y_train, k)\n",
        "\n",
        "    return y_test_pred\n",
        "\n",
        "  def check_accuracy(self, x_test, y_test, k=1, quiet=False):\n",
        "    y_test_pred = self.predict(x_test, k=k)\n",
        "    num_samples = x_test.shape[0]\n",
        "    num_correct = (y_test == y_test_pred).sum().item()\n",
        "    accuracy = 100.0 * num_correct / num_samples\n",
        "    msg = (f'Got {num_correct} / {num_samples} correct; '\n",
        "           f'accuracy is {accuracy:.2f}%')\n",
        "    if not quiet:\n",
        "      print(msg)\n",
        "    return accuracy"
      ]
    },
    {
      "cell_type": "code",
      "execution_count": null,
      "metadata": {
        "id": "Pob9aqlkF1rF"
      },
      "outputs": [],
      "source": [
        "# Also, seed everything for reproducibility\n",
        "# code from https://gist.github.com/ihoromi4/b681a9088f348942b01711f251e5f964#file-seed_everything-py\n",
        "def seed_everything(seed: int):\n",
        "    import random, os\n",
        "    import numpy as np\n",
        "    import torch\n",
        "    random.seed(seed)\n",
        "    os.environ['PYTHONHASHSEED'] = str(seed)\n",
        "    np.random.seed(seed)\n",
        "    torch.manual_seed(seed)\n",
        "    torch.cuda.manual_seed(seed)\n",
        "    torch.backends.cudnn.deterministic = True\n",
        "    torch.backends.cudnn.benchmark = True"
      ]
    },
    {
      "cell_type": "code",
      "execution_count": null,
      "metadata": {
        "id": "dMTQ7y7lF1rF"
      },
      "outputs": [],
      "source": [
        "# Define the device to use for training\n",
        "device = torch.device('cuda' if torch.cuda.is_available() else 'cpu')\n",
        "if device == torch.device('cuda'):\n",
        "    print(f'Using device: {device}. Good to go!')\n",
        "else:\n",
        "    print('Please set GPU via Edit -> Notebook Settings.')"
      ]
    },
    {
      "cell_type": "code",
      "execution_count": null,
      "metadata": {
        "id": "y67XuOdxF1rG"
      },
      "outputs": [],
      "source": [
        "! nvidia-smi"
      ]
    },
    {
      "cell_type": "markdown",
      "metadata": {
        "id": "532GJGCHF1rI"
      },
      "source": [
        "## Q1: Steps to build a ViT from scratch (60 pts)\n",
        "Vision Transformer (ViT) is a state-of-the-art neural network architecture for image classification tasks. Unlike traditional convolutional neural networks (CNNs), which have been the standard in computer vision for many years, ViT relies on a self-attention mechanism to extract features from images. This approach has shown to achieve competitive results on various benchmark datasets, while also offering the flexibility to handle tasks that require attention over long-range dependencies in images. ViT has quickly gained popularity in the computer vision community, and has spurred further research into the use of self-attention mechanisms in other areas of deep learning.\n",
        "\n",
        "You will implement the ViT model on the Miniplaces dataset.\n",
        "\n",
        "To implement ViT model for image classification, you will need to follow these steps：\n",
        "1.  Extract feature vectors from the input images using a trainable linear projection layer, which converts the 2D image patches into 1D feature vectors.\n",
        "2. Positional encoding: Add a learnable positional encoding to each feature vector, which provides spatial information to the model.\n",
        "3. Transformer encoder: Stack multiple Transformer encoder layers to process the encoded features, which allows the model to learn both local and global interactions between the image patches.\n",
        "4. Classification head: Add a classification head on top of the final encoded feature vector, which maps the learned representations to the corresponding class labels.\n",
        "5. Training and evaluation: Train the ViT model using an appropriate optimization algorithm and loss function, and evaluate its performance on the validation and testing sets.\n",
        "\n",
        "If you are not familiair with ViT model, then you can read our textbook [Transformers for Vision](https://d2l.ai/chapter_attention-mechanisms-and-transformers/vision-transformer.html#fig-vit), or review our [discussion slides](https://drive.google.com/file/d/1RKSnE9MOAGBu9T-_2TaBEm4ASF189Fms/view)."
      ]
    },
    {
      "cell_type": "markdown",
      "metadata": {
        "id": "-3WejhKIF1rI"
      },
      "source": [
        "### Q1.1: Tokenization (10 pts):\n",
        "At this step, we need to divide each image into a set of non-overlapping patches, and treat each patch as a token. This is the key step that distinguishes ViT from other computer vision models."
      ]
    },
    {
      "cell_type": "markdown",
      "metadata": {
        "id": "yktdHkZrKPVw"
      },
      "source": [
        "#### Q1.1.1 Tokenize_image Method (5pts)"
      ]
    },
    {
      "cell_type": "code",
      "execution_count": null,
      "metadata": {
        "id": "wDPametLF1rJ"
      },
      "outputs": [],
      "source": [
        "def tokenize_image(img, patch_size=16, stride=16):\n",
        "    \"\"\"\n",
        "    Tokenize an image into non-overlapping image patches.\n",
        "    Args:\n",
        "        img (torch.Tensor): The input image with shape (C, H, W).\n",
        "        patch_size (int): The size of each patch.\n",
        "        stride (int): The stride of the sliding window.\n",
        "    Returns:\n",
        "        patches (torch.Tensor): The tokenized patches with shape (N, patch_size*patch_size*C).\n",
        "    \"\"\"\n",
        "\n",
        "    C, H, W = img.shape\n",
        "    patches = []\n",
        "    ################# Your Implementations #################################\n",
        "    # Hints: write two for loop to loop over this image\n",
        "    # Each patch is flattened into a 1-dimensional vector and stacked into a\n",
        "    # tensor with shape (N, patch_size(H) * patch_size(W) * C), where N is the number of patches.\n",
        "    # We only consider the case image size can be modulo by the patch_size\n",
        "\n",
        "    # Additionally, before flattening, remember to permute the patch such that\n",
        "    # it has shape (patch_size(H), patch_size(W), C)\n",
        "\n",
        "    pass\n",
        "\n",
        "\n",
        "\n",
        "    ################# End of your Implementations ##########################\n",
        "    return patches"
      ]
    },
    {
      "cell_type": "code",
      "execution_count": null,
      "metadata": {
        "id": "sVfIbK5tF1rJ"
      },
      "outputs": [],
      "source": [
        "# test your implementation of tokenize_image\n",
        "random_img = torch.rand(3,64,64)\n",
        "patched_img = tokenize_image(random_img,8,8)\n",
        "\n",
        "for i in [32,16,8,4,2]:\n",
        "    out = tokenize_image(random_img,i,i)\n",
        "\n",
        "    fast_patch = Rearrange('b c (h p1) (w p2) -> b (h w) (p1 p2 c)', p1 = i, p2 = i)\n",
        "\n",
        "    answer = fast_patch(random_img.unsqueeze(0))\n",
        "    equal = torch.allclose(out,answer.squeeze(0))\n",
        "    #print('Difference: ', equal)\n",
        "    if equal:\n",
        "      print('Good! For patch_size: %d, the output match' %(i))\n",
        "    else:\n",
        "      print('Uh-oh! For patch_size: %d, the output are different' %(i))\n",
        "      break"
      ]
    },
    {
      "cell_type": "markdown",
      "metadata": {
        "id": "GZo2ygYUKfWC"
      },
      "source": [
        "#### Q1.1.2 linear projection layer (5 pts)"
      ]
    },
    {
      "cell_type": "markdown",
      "metadata": {
        "id": "VQcWs0XTIC7P"
      },
      "source": [
        "At this step, you will need to implement the linear projection linear project layer combined with tokenize operation.\n",
        "\n",
        "This layer is used to transfer a single image to the image embedding."
      ]
    },
    {
      "cell_type": "code",
      "execution_count": null,
      "metadata": {
        "id": "mZ9tqkaPK1g7"
      },
      "outputs": [],
      "source": [
        "class Tokenization_layer(nn.Module):\n",
        "  def __init__(self, dim, patch_dim,patch_height, patch_width):\n",
        "    super().__init__()\n",
        "    \"\"\"\n",
        "        Args:\n",
        "          dim (int): input and output dimension.\n",
        "          patch_dim(int): falttened vectot dimension for image patch\n",
        "          patch_height (int): height of one image patch\n",
        "          patch_weight (int): weight of one image patch\n",
        "\n",
        "        You can use Pytorch's built-in function and the above Rearrange method.\n",
        "        Input and output shapes of each layer:\n",
        "        1) Rerrange the image: (batch_size, channels, H,W) -> (batch_size,N,patch_dim)\n",
        "        2) Norm Layer1 (LayerNorm): (batch_size,N,patch_dim) -> (batch_size,N,patch_dim)\n",
        "        3) Linear Projection layer: (batch_size,N,patch_dim) -> (batch_size,N,dim)\n",
        "        4) Norm Layer2 (LayerNorm): (batch_size,N,dim)-> (batch_size,N,dim)\n",
        "    \"\"\"\n",
        "\n",
        "    self.to_patch = Rearrange('b c (h p1) (w p2) -> b (h w) (p1 p2 c)', p1 = patch_height, p2 = patch_width)\n",
        "    self.norm1 = None\n",
        "    self.fc1 = None\n",
        "    self.norm2 = None\n",
        "\n",
        "    ################# Your Implementations #################################\n",
        "    # Hints: You can use the Rearrange method above to achieve faster patch operation\n",
        "    # Rearrange('b c (h p1) (w p2) -> b (h w) (p1 p2 c)', p1 = patch_height, p2 = patch_width)\n",
        "\n",
        "\n",
        "    pass\n",
        "\n",
        "\n",
        "    ################# End of your Implementations ##########################\n",
        "\n",
        "  def forward(self, x):\n",
        "    \"\"\"\n",
        "    Args:\n",
        "      x (torch.Tensor): input tensor in the shape of (batch_size,C,H,W)\n",
        "    Return:\n",
        "      out (torch.Tensor): output patch embedding tensor in the shape of (batch_size,N,dim)\n",
        "\n",
        "     The input tensor 'x' should pass through the following layers:\n",
        "     1) self.to_patch: Rerrange image\n",
        "     2) self.norm1: LayerNorm\n",
        "     3) self.fc1: Fully-Connected layer\n",
        "     4) self.norm2: LayerNorm\n",
        "\n",
        "    \"\"\"\n",
        "\n",
        "    out = None\n",
        "    ################# Your Implementations #################################\n",
        "\n",
        "\n",
        "    pass\n",
        "\n",
        "\n",
        "    ################# End of your Implementations ##########################\n",
        "    return out\n"
      ]
    },
    {
      "cell_type": "markdown",
      "metadata": {
        "id": "o9b7ESVsF1rK"
      },
      "source": [
        "### Q1.2 Attention (15 pts):\n",
        "You will need to follow the steps to implement multi-head attention in this question.\n",
        "1. **Obtain Q,K,V vectors**: To obtain the Q, K, and V vectors, the input vectors are processed through three distinct single linear layers. In our implementation, we use a single linear layer with 3xD output channels, and then we divide the output into three chunks. We consider the first chunk as the Q vectors, the second chunk as the K vectors, and the last chunk as the V vectors.\n",
        "\n",
        "2. **Calculate similarity**: Compute the similarity scores between query vectors and a set of key vectors using a dot product.\n",
        "\n",
        "3. **Apply softmax**: Apply a softmax function to normalize the similarity scores across the key vectors. This creates a probability distribution that represents the relative importance of each key vector with respect to the query vector.\n",
        "\n",
        "4. **Compute weighted sum**: Compute a weighted sum of the** value vectors**, where the weights are the probability distribution obtained in step 2. This produces a context vector that summarizes the most relevant information from the value vectors with respect to the query vector.\n",
        "\n",
        "5. **Concatenate output**: The outputs of each head are then concatenated and passed through another linear projection to produce the final output.\n",
        "\n",
        "For more details, you can read our [textbook](https://d2l.ai/chapter_attention-mechanisms-and-transformers/index.html)."
      ]
    },
    {
      "cell_type": "code",
      "execution_count": null,
      "metadata": {
        "id": "7er82fMhF1rK"
      },
      "outputs": [],
      "source": [
        "class Attention(nn.Module):\n",
        "    def __init__(self, dim, heads = 8, dim_head = 64, dropout = 0.):\n",
        "        super().__init__()\n",
        "        \"\"\"\n",
        "        Args:\n",
        "          dim (int): input and output dimension.\n",
        "          heads (int): number of attention heads.\n",
        "          dim_head (int): input dimension of each attention head.\n",
        "          dropout (float): dropout rate for attention and final_linear layer.\n",
        "\n",
        "        Initialize a attention block.\n",
        "        You can use Pytorch's built-in function.\n",
        "        Input and output shapes of each layer:\n",
        "        1) Define the inner dimension as number of heads* dimension of each head\n",
        "        2) to_qkv: (batch_size, dim) -> (batch_size,3*inner_dimension)\n",
        "        3) final_linear: (batch_size, inner_dim) -> (batch_size, dim)\n",
        "        \"\"\"\n",
        "\n",
        "        self.heads = heads\n",
        "        self.dim_head = dim_head\n",
        "\n",
        "        self.inner_dim = dim_head *  heads\n",
        "\n",
        "\n",
        "        self.attend = None\n",
        "        self.dropout = None\n",
        "        self.final_linear = None\n",
        "\n",
        "\n",
        "        # Here, you should define\n",
        "        # 1) self.to_qkv: (batch_size, dim) -> (batch_size,3*inner_dimension)\n",
        "        # 2) self.dropout: Dropout layer with ratio defined by dropout variable\n",
        "        # 3) self.final_linear: (batch_size, inner_dim) -> (batch_size, dim)\n",
        "        ################# Your Implementations #################################\n",
        "\n",
        "\n",
        "\n",
        "        pass\n",
        "\n",
        "\n",
        "\n",
        "        ################# End of your Implementations ##########################\n",
        "\n",
        "    def forward(self, x):\n",
        "        '''\n",
        "        Forward pass of the attention block.\n",
        "        Args:\n",
        "            x (torch.Tensor): input tensor in the shape of (batch_size,N,dim).\n",
        "        Returns:\n",
        "            out (torch.Tensor): output tensor in the shape of (batch_size,N,dim).\n",
        "\n",
        "        The input tensor 'x' should pass through the following layers:\n",
        "        1) to_qkv: (batch_size,N,dim) -> (batch_size,N,3*inner_dimension)\n",
        "        2) Divide the ouput of to qkv to q,k,v and then divide them in to n heads\n",
        "            (batch_size,N,inner_dim) -> (batch_size,N,num_head,head_dim)\n",
        "        3) Use torch.matmul to get the product of q and k\n",
        "        4) Divide the above tensor by the squre root of head dimension\n",
        "        5) Apply softmax and then dropout on the above tensor\n",
        "        6) Mutiply the above tensor with v to get attention\n",
        "        7) Concatenate the attentions from multi-heads\n",
        "            (batch_size,N,num_head,head_dim) -> (batch_size,N,inner_dim)\n",
        "        8) Pass the output from last step to a fully connected layer\n",
        "        9) Apply dropout for the last step output\n",
        "        '''\n",
        "        out = None\n",
        "\n",
        "        qkv = self.to_qkv(x).chunk(3, dim = -1)\n",
        "        q, k, v = map(lambda t: rearrange(t, 'b n (h d) -> b h n d', h = self.heads), qkv)\n",
        "        ################# Your Implementations #################################\n",
        "        # Hint you can use :\n",
        "        #    out = rearrange(out, 'b h n d -> b n (h d)')\n",
        "        # to concatenate the output from all attention heads\n",
        "        # This operation will change the tensor shape from (batch_size,N,num_head,head_dim)\n",
        "        # to  (batch_size,N,inner_dim)\n",
        "\n",
        "\n",
        "\n",
        "\n",
        "        pass\n",
        "\n",
        "\n",
        "\n",
        "\n",
        "\n",
        "\n",
        "        ################# End of your Implementations ##########################\n",
        "        return out"
      ]
    },
    {
      "cell_type": "code",
      "execution_count": null,
      "metadata": {
        "id": "G7yya6zjF1rL"
      },
      "outputs": [],
      "source": [
        "# You can use this cell to check if the output shape of attention'\n",
        "for dim in [512,768,1096]:\n",
        "  test_tensor = torch.rand(2,196,dim)\n",
        "  att_layer = Attention(dim,8,64,0.4)\n",
        "  output_tensor = att_layer(test_tensor)\n",
        "  equal =  test_tensor.shape == output_tensor.shape\n",
        "  if equal:\n",
        "    print('Good! For input dim: %d, the output shape is correct' %(dim))\n",
        "  else:\n",
        "    print('Uh-oh! For input dim: %d, the output shape is wrong' %(dim))\n",
        "    break"
      ]
    },
    {
      "cell_type": "markdown",
      "metadata": {
        "id": "cRGAesmOfk0A"
      },
      "source": [
        "The norm layer in Vision Transformer (ViT) is a layer that performs layer normalization on the input. It is typically applied after the Multi-Head Attention (MHA) and the MLP layers in the ViT architecture. The norm layer is used to help the model learn better representations by ensuring that the activations are normalized and centered."
      ]
    },
    {
      "cell_type": "code",
      "execution_count": null,
      "metadata": {
        "id": "jFbmcWQCF1rL"
      },
      "outputs": [],
      "source": [
        "### PreNorm function\n",
        "class PreNorm(nn.Module):\n",
        "    def __init__(self, dim, fn):\n",
        "        super().__init__()\n",
        "        self.norm = nn.LayerNorm(dim)\n",
        "        self.fn = fn\n",
        "    def forward(self, x, **kwargs):\n",
        "        # keey the residual connection here\n",
        "        return self.fn(self.norm(x), **kwargs)+x"
      ]
    },
    {
      "cell_type": "code",
      "execution_count": null,
      "metadata": {
        "id": "l217s0ofF1rL"
      },
      "outputs": [],
      "source": [
        "#You can use\n",
        "a = PreNorm(768, Attention(768, heads = 8, dim_head = 64, dropout = 0.2))\n",
        "# to create a combination of layer norm and any other layer\n",
        "test_tensor = torch.rand(2,196,768)\n",
        "# you can use the following line to do the forward pass\n",
        "output_tensor = a(test_tensor)"
      ]
    },
    {
      "cell_type": "markdown",
      "metadata": {
        "id": "De7Z8ywcF1rM"
      },
      "source": [
        "###Q1.3 PositionwiseFeedForward(5 pt)\n",
        "You will need to implement the posiotionwiseFeedForward layer in Vision Transformer.\n",
        "\n",
        "The FFN layer is called \"position-wise\" because it applies a separate feedforward network to each position in the sequence independently. It consists of two linear transformations with a non-linear activation function in between, typically GELU. The first linear transformation maps the input feature vector from its original dimension to a higher-dimensional space, and the second linear transformation maps it back to the original dimension. The output of the FFN layer is the element-wise sum of the input and the transformed feature vector."
      ]
    },
    {
      "cell_type": "code",
      "execution_count": null,
      "metadata": {
        "id": "zP9qXq3AF1rM"
      },
      "outputs": [],
      "source": [
        "class PositionwiseFeedForward(nn.Module):\n",
        "    \"Implements FFN equation.\"\n",
        "    def __init__(self, dim, mlp_dim, dropout=0.1):\n",
        "        super(PositionwiseFeedForward, self).__init__()\n",
        "        \"\"\"\n",
        "         Args:\n",
        "          dim (int): input and output dimension.\n",
        "          mlp_dim (int): the output dimension of the first layer.\n",
        "          dropout (float): dropout rate for both linear layers.\n",
        "\n",
        "        Initialize an MLP.\n",
        "        You can use Pytorch's built-in nn.Linear function.\n",
        "        Input and output sizes of each layer:\n",
        "          1) fc1: dim, mlp_dim\n",
        "          2) fc2: mlp_dim, dim\n",
        "        \"\"\"\n",
        "\n",
        "        self.fc1 = None\n",
        "        self.fc2 = None\n",
        "        self.dropout = None\n",
        "        self.activation = nn.GELU()\n",
        "        ################# Your Implementations #################################\n",
        "\n",
        "\n",
        "        pass\n",
        "\n",
        "\n",
        "        ################# End of your Implementations ##########################\n",
        "\n",
        "    def forward(self, x):\n",
        "        '''\n",
        "        Args:\n",
        "            x (torch.Tensor): input tensor in the shape of (batch_size,N,dim).\n",
        "        Returns:\n",
        "            out (torch.Tensor): output tensor in the shape of (batch_size,N,dim).\n",
        "\n",
        "        The input tensor 'x' should pass through the following layers:\n",
        "        1) fc1: (batch_size,N,dim) ->  (batch_size,N,mlp_dim)\n",
        "        2) Apply activation function\n",
        "        3) Apply dropout\n",
        "        3) fc2: (batch_size,N,mlp_dim) -> (batch_size,N,dim)\n",
        "        4) Apply dropout\n",
        "        '''\n",
        "\n",
        "        out = None\n",
        "        ################# Your Implementations #################################\n",
        "\n",
        "        pass\n",
        "\n",
        "\n",
        "        ################# End of your Implementations ##########################\n",
        "        return out"
      ]
    },
    {
      "cell_type": "code",
      "execution_count": null,
      "metadata": {
        "id": "0o1D-3EsF1rM"
      },
      "outputs": [],
      "source": [
        "# You can use this cell to check if the output shape of PositionwiseFeedForward\n",
        "for dim in [512,768,1096]:\n",
        "  test_tensor = torch.rand(2,196,dim)\n",
        "  ffn = PositionwiseFeedForward(dim,dim*4,0.1)\n",
        "  output_tensor = ffn(test_tensor)\n",
        "  equal =  test_tensor.shape == output_tensor.shape\n",
        "  if equal:\n",
        "    print('Good! For input dim: %d, the output shape is correct' %(dim))\n",
        "  else:\n",
        "    print('Uh-oh! For input dim: %d, the output shape is wrong' %(dim))\n",
        "    break"
      ]
    },
    {
      "cell_type": "markdown",
      "metadata": {
        "id": "BoRkYfdoF1rM"
      },
      "source": [
        "### Q1.4 TransformerBlock (5pt)\n",
        "Now you can follow the steps and use above class to implement the standard transformer block as demostrated in the following image.\n",
        "\n",
        " <img src=\"https://web.cs.ucla.edu/~smo3/cs188/assignment3/transformer_block.png\"  width=\"20%\" height=\"40%\">\n",
        "\n",
        "1. Apply Layer-norm to the input tensor\n",
        "2. Apply the Multi-Head Attention (MHA) layer to the output tensor from step1. The MHA layer takes in the input tensor, and returns the attention scores and the attention output tensor.\n",
        "3. Add the residual connection to the output of the MHA layer.\n",
        "4. Apply Layer-norm to output of last step\n",
        "5. Apply the Position-wise Feedforward Network (FFN) layer to the output of the previous step. The FFN layer takes in the output tensor, and returns the transformed output tensor.\n",
        "6. Add the residual connection to the output of the FFN layer."
      ]
    },
    {
      "cell_type": "code",
      "execution_count": null,
      "metadata": {
        "id": "lMCLL9IJF1rN"
      },
      "outputs": [],
      "source": [
        "class Transformer(nn.Module):\n",
        "    def __init__(self, dim, heads, dim_head, mlp_dim, dropout = 0.):\n",
        "        \"Implements Transformer block.\"\n",
        "        super().__init__()\n",
        "        '''\n",
        "        Args:\n",
        "          dim (int): input and output dimension.\n",
        "          heads (int): number of attention heads.\n",
        "          dim_head (int): input dimension of each attention head.\n",
        "          mlp_dim (int):\n",
        "          dropout (float): dropout rate for attention and FFN layers.\n",
        "\n",
        "        '''\n",
        "        # Use the PreNorm,Attention and PositionwiseFeedForword class to build your\n",
        "        # Transformer block\n",
        "        self.attn = None\n",
        "        self.ff = None\n",
        "\n",
        "        ################# Your Implementations #################################\n",
        "\n",
        "\n",
        "        pass\n",
        "\n",
        "        ################# End of your Implementations ##########################\n",
        "\n",
        "    def forward(self, x):\n",
        "        \"\"\"\n",
        "        Args:\n",
        "            x (torch.Tensor): input tensor in the shape of (batch_size,N,dim).\n",
        "        Returns:\n",
        "            out (torch.Tensor): output tensor in the shape of (batch_size,N,dim).\n",
        "        \"\"\"\n",
        "        ################# Your Implementations #################################\n",
        "\n",
        "\n",
        "        pass\n",
        "\n",
        "\n",
        "        ################# End of your Implementations ##########################\n",
        "        return x"
      ]
    },
    {
      "cell_type": "code",
      "execution_count": null,
      "metadata": {
        "id": "XLAFJkurF1rN"
      },
      "outputs": [],
      "source": [
        "# You can use this cell to check if the output shape of Transformer\n",
        "for dim in [512,768,1096]:\n",
        "  test_tensor = torch.rand(2,196,dim)\n",
        "  transformer_block = Transformer(dim,8,64,dim*4,0.1)\n",
        "  output_tensor = transformer_block(test_tensor)\n",
        "  equal =  test_tensor.shape == output_tensor.shape\n",
        "  if equal:\n",
        "    print('Good! For input dim: %d, the output shape is correct' %(dim))\n",
        "  else:\n",
        "    print('Uh-oh! For input dim: %d, the output shape is wrong' %(dim))\n",
        "    break"
      ]
    },
    {
      "cell_type": "markdown",
      "metadata": {
        "id": "RYrPbuC3F1rN"
      },
      "source": [
        "###Q1.5 ViTModel (20 pts)\n",
        "Now you can use above classes to build your Vision Transfromer. Recall the ViT Architecture.\n",
        "\n",
        " <img src=\"https://web.cs.ucla.edu/~smo3/cs188/assignment3/vit.png\"  width=\"40%\" height=\"40%\">\n",
        "\n",
        " Recall the pipline for Vision Transformer model:\n",
        "\n",
        "1. Load the input images and preprocess them into a set of image patches. The patches should be non-overlapping and should cover the entire input image. Each patch should be flattened into a vector and projected into a lower-dimensional/equal-dimensional space using a linear layer.\n",
        "\n",
        "2. Add cls token and learnable positional embeddings to the projected patch vectors. The positional embedding should encode the spatial location of each patch in the input image.\n",
        "\n",
        "3. Stack several Transformer blocks to process the patch vectors. Each Transformer block should consist of a Multi-Head Attention (MHA) layer and a Position-wise Feedforward Network (FFN) layer, with residual connections and layer normalization applied after each layer.\n",
        "\n",
        "3. Apply a mean pooling operation over the output of the last Transformer block or take the output vector related to the cls token to obtain a fixed-size feature vector.\n",
        "\n",
        "5. Feed the feature vector into a fully-connected classification head to predict the class label of the input image.\n",
        "\n",
        "6. Train the model using a supervised learning objective, such as cross-entropy loss, and backpropagation to update the model weights."
      ]
    },
    {
      "cell_type": "code",
      "execution_count": null,
      "metadata": {
        "id": "8h8oMh2vF1rN"
      },
      "outputs": [],
      "source": [
        "# helper method\n",
        "def pair(t):\n",
        "    return t if isinstance(t, tuple) else (t, t)\n",
        "\n",
        "class ViT(nn.Module):\n",
        "    \"Implements Vision Transfromer\"\n",
        "    def __init__(self, *,\n",
        "                 image_size,\n",
        "                 patch_size,\n",
        "                 num_classes,\n",
        "                 dim,\n",
        "                 depth,\n",
        "                 heads,\n",
        "                 mlp_dim,\n",
        "                 pool = 'cls',\n",
        "                 channels = 3,\n",
        "                 dim_head = 64,\n",
        "                 dropout = 0.,\n",
        "                 emb_dropout = 0.,\n",
        "                ):\n",
        "        super().__init__()\n",
        "        \"\"\"\n",
        "        Args:\n",
        "          image_size (int): the height/weight of the input image.\n",
        "          patch_size (int): image patch size. In the ViT paper, this value is 16.\n",
        "          num_classes (num_class): Number of image classes for MLP prediction head.\n",
        "          dim (int): patch and position embedding dimension.\n",
        "          depth (int): number of stacked transformer blocks.\n",
        "          heads (int): number of attention heads.\n",
        "          mlp_dim (int): inner dimension for MLP in transformer blocks.\n",
        "          pool (str): choice between \"cls\", \"mean\", \"none\".\n",
        "                      For cls, you will need to use the cls token for perdiction\n",
        "                      For mean, you will need to take the mean of last transformer output\n",
        "                      For none, you can just return the last transformer output.\n",
        "                                This will mainly be used for dense prediction tasks.\n",
        "          channels (int): Input image channels. Set to 3 for RGB image.\n",
        "          dropout (float): dropout rate for transformer blocks.\n",
        "          emb_dropout (float): dropout rate for patch embedding.\n",
        "        \"\"\"\n",
        "        image_height, image_width = pair(image_size)\n",
        "        patch_height, patch_width = pair(patch_size)\n",
        "\n",
        "        assert image_height % patch_height == 0 and image_width % patch_width == 0, 'Image dimensions must be divisible by the patch size.'\n",
        "\n",
        "        num_patches = 0\n",
        "        patch_dim = 0\n",
        "\n",
        "        ################# Your Implementations #################################\n",
        "        # TODO: Compute the num_patches and patch_dim\n",
        "\n",
        "        pass\n",
        "\n",
        "\n",
        "        ################# End of your Implementations ##########################\n",
        "\n",
        "        assert pool in {'cls', 'mean', 'none'}, 'pool type must be either cls (cls token), mean (mean pooling), or none (no pooling)'\n",
        "        self.pool = pool\n",
        "\n",
        "        self.to_path_embedding = None\n",
        "\n",
        "        self.pos_embedding = None\n",
        "        self.cls_token = None\n",
        "        self.dropout = None\n",
        "        self.transformers = nn.ModuleList([])\n",
        "        self.mlp_head = None\n",
        "        ################# Your Implementations #################################\n",
        "        # TODO:\n",
        "        # 1) Define self.to_patch_embedding usinng the Tokenization_layer class\n",
        "        # 2) Define learnable 1-D pos_embedding using torch.randn, the number of\n",
        "        #    embedding should be num_patches+1\n",
        "        # 3) Define learnable 1-D cls_token with dimension = dim. You can use\n",
        "        #    nn.Parameter and torch.randn to initialize this\n",
        "        # 4) Define dropout with emb_dropout\n",
        "        # 5) Define array of d Transformer modules, where d=depth\n",
        "        # 6) Using nn.Sqeuential to create the MLP head including two layers:\n",
        "        #    The first layer in the MLP head is a LayerNorm layer.\n",
        "        #    The second layer in the MLP head is a linear layer change dimension to num_classes\n",
        "        #    Note that this MLP head should have 'dim' input dimensions, not 'mlp_dim' which is\n",
        "        #    used for the MLP in the transformer block instead.\n",
        "\n",
        "\n",
        "\n",
        "\n",
        "        pass\n",
        "\n",
        "\n",
        "\n",
        "        ################# End of your Implementations ##########################\n",
        "\n",
        "\n",
        "    def forward(self, img):\n",
        "        '''\n",
        "        Args:\n",
        "            img (torch.Tensor): input tensor in the shape of (batch_size,C,H,W).\n",
        "        Returns:\n",
        "            out (torch.Tensor): output tensor in the shape of (batch_size,num_class).\n",
        "\n",
        "        The input tensor 'img' should pass through the following layers:\n",
        "        1) self.to_patch_embedding: (batch_size,C,H,W) -> (batch_size,N,dim)\n",
        "        2) Using torch.Tensor.repeat to repeat the cls alone batch dimension.\n",
        "           Then, concatenate with cls token (batch_size,N,dim) -> (batch_size,N+1,dim)\n",
        "        3) Take sum of patch embedding and position embedding, then apply dropout.\n",
        "        4) Passing through all the transformer blocks (batch_size,N+1,dim) -> (batch_size,N+1,dim)\n",
        "        5) If pool is none, simply return the output of (4). Else, proceed to (5).\n",
        "        5) Use cls token or use pool method to get latent code of batched images\n",
        "            (batch_size,N+1,dim) -> (batch_size,dim)\n",
        "        6) Apply MLP head to the output of last step: (batch_size,dim) -> (batch_size,num_class)\n",
        "\n",
        "        '''\n",
        "        out = None\n",
        "        ################# Your Implementations #################################\n",
        "\n",
        "\n",
        "\n",
        "\n",
        "\n",
        "\n",
        "\n",
        "\n",
        "        pass\n",
        "\n",
        "\n",
        "\n",
        "\n",
        "\n",
        "\n",
        "\n",
        "\n",
        "        ################# End of your Implementations ##########################\n",
        "        return out"
      ]
    },
    {
      "cell_type": "markdown",
      "metadata": {
        "id": "Q8oNroxoyG1r"
      },
      "source": [
        "Then let's train your ViT model with with cls token as pool policy."
      ]
    },
    {
      "cell_type": "code",
      "execution_count": null,
      "metadata": {
        "id": "Tbp_mTZJF1rO"
      },
      "outputs": [],
      "source": [
        "seed_everything(0)\n",
        "\n",
        "#Define the model, optimizer, and criterion (loss_fn)\n",
        "model = ViT(image_size = 128,\n",
        "    patch_size = 16,\n",
        "    num_classes = 100,\n",
        "    dim = 192,\n",
        "    depth = 8,\n",
        "    heads = 4,\n",
        "    dim_head = 48,\n",
        "    mlp_dim = 768,\n",
        "    dropout = 0.1,\n",
        "    emb_dropout = 0.1\n",
        "           )\n",
        "\n",
        "optimizer = torch.optim.AdamW(\n",
        "    model.parameters(),\n",
        "    lr=1e-4,)\n",
        "\n",
        "criterion = nn.CrossEntropyLoss()\n",
        "\n",
        "\n",
        "# Define the dataset and data transform with flatten functions appended\n",
        "data_root = os.path.join(root_dir, 'data')\n",
        "train_dataset = MiniPlaces(\n",
        "    root_dir=data_root, split='train',\n",
        "    transform=data_transform)\n",
        "\n",
        "val_dataset = MiniPlaces(\n",
        "    root_dir=data_root, split='val',\n",
        "    transform=data_transform,\n",
        "    label_dict=train_dataset.label_dict)\n",
        "\n",
        "# Define the batch size and number of workers\n",
        "batch_size = 64\n",
        "num_workers = 2\n",
        "\n",
        "# Define the data loaders\n",
        "train_loader = torch.utils.data.DataLoader(\n",
        "    train_dataset, batch_size=batch_size, num_workers=num_workers, shuffle=True)\n",
        "val_loader = torch.utils.data.DataLoader(\n",
        "    val_dataset, batch_size=batch_size, num_workers=num_workers, shuffle=False)\n",
        "\n",
        "# Train the model\n",
        "train(model, train_loader, val_loader, optimizer, criterion, device, num_epochs=2)"
      ]
    },
    {
      "cell_type": "markdown",
      "metadata": {
        "id": "uIF3rbTjxRqC"
      },
      "source": [
        "I got an accuracy of 14.43% using my own implementation. How about you?"
      ]
    },
    {
      "cell_type": "markdown",
      "metadata": {
        "id": "VGXNfFX9zEXb"
      },
      "source": [
        "Then let's train your ViT model with with average pooling as pool policy."
      ]
    },
    {
      "cell_type": "code",
      "execution_count": null,
      "metadata": {
        "id": "RWLFLdbwy3ko"
      },
      "outputs": [],
      "source": [
        "seed_everything(0)\n",
        "\n",
        "#Define the model, optimizer, and criterion (loss_fn)\n",
        "model = ViT(image_size = 128,\n",
        "    patch_size = 16,\n",
        "    num_classes = 100,\n",
        "    dim = 192,\n",
        "    depth = 8,\n",
        "    heads = 4,\n",
        "    pool = 'mean',\n",
        "    dim_head = 48,\n",
        "    mlp_dim = 768,\n",
        "    dropout = 0.1,\n",
        "    emb_dropout = 0.1\n",
        "           )\n",
        "\n",
        "optimizer = torch.optim.AdamW(\n",
        "    model.parameters(),\n",
        "    lr=1e-4,)\n",
        "\n",
        "criterion = nn.CrossEntropyLoss()\n",
        "\n",
        "\n",
        "# Define the dataset and data transform with flatten functions appended\n",
        "data_root = os.path.join(root_dir, 'data')\n",
        "train_dataset = MiniPlaces(\n",
        "    root_dir=data_root, split='train',\n",
        "    transform=data_transform)\n",
        "\n",
        "val_dataset = MiniPlaces(\n",
        "    root_dir=data_root, split='val',\n",
        "    transform=data_transform,\n",
        "    label_dict=train_dataset.label_dict)\n",
        "\n",
        "# Define the batch size and number of workers\n",
        "batch_size = 64\n",
        "num_workers = 2\n",
        "\n",
        "# Define the data loaders\n",
        "train_loader = torch.utils.data.DataLoader(\n",
        "    train_dataset, batch_size=batch_size, num_workers=num_workers, shuffle=True)\n",
        "val_loader = torch.utils.data.DataLoader(\n",
        "    val_dataset, batch_size=batch_size, num_workers=num_workers, shuffle=False)\n",
        "\n",
        "# Train the model\n",
        "train(model, train_loader, val_loader, optimizer, criterion, device, num_epochs=2)"
      ]
    },
    {
      "cell_type": "markdown",
      "metadata": {
        "id": "yIsqefHhZLUj"
      },
      "source": [
        "I got an accuracy of 14.11% using my own implementation. How about you?"
      ]
    },
    {
      "cell_type": "markdown",
      "metadata": {
        "id": "kRYdlXK51eE6"
      },
      "source": [
        "### Q1.6 Comparision bewteen ResNet and ViT (5pts)\n",
        "Train your resnet18 model without pretrained weighted for 2 epoch, and comparing the accuracy with ViT model."
      ]
    },
    {
      "cell_type": "code",
      "execution_count": null,
      "metadata": {
        "id": "PzBbgHQO2DF7"
      },
      "outputs": [],
      "source": [
        "import torchvision.models as models\n",
        "\n",
        "# Train your resnet18 model without pretrained weighted for 2 epoch, and comparing the accuracy with ViT model.\n",
        "seed_everything(0)\n",
        "\n",
        "# Define the model, optimizer, and criterion (loss_fn)\n",
        "resnet = models.resnet18(pretrained=False, num_classes=100) # Resnet(pretrained=False)\n",
        "\n",
        "optimizer = torch.optim.AdamW(\n",
        "    resnet.parameters(),\n",
        "    lr=0.0001)\n",
        "\n",
        "\n",
        "criterion = nn.CrossEntropyLoss()\n",
        "\n",
        "\n",
        "# Define the dataset and data transform with flatten functions appended\n",
        "data_root = os.path.join(root_dir, 'data')\n",
        "train_dataset = MiniPlaces(\n",
        "    root_dir=data_root, split='train',\n",
        "    transform=data_transform)\n",
        "\n",
        "val_dataset = MiniPlaces(\n",
        "    root_dir=data_root, split='val',\n",
        "    transform=data_transform,\n",
        "    label_dict=train_dataset.label_dict)\n",
        "\n",
        "# Define the batch size and number of workers\n",
        "batch_size = 64\n",
        "num_workers = 2\n",
        "\n",
        "# Define the data loaders\n",
        "train_loader = torch.utils.data.DataLoader(\n",
        "    train_dataset, batch_size=batch_size, num_workers=num_workers, shuffle=True)\n",
        "val_loader = torch.utils.data.DataLoader(\n",
        "    val_dataset, batch_size=batch_size, num_workers=num_workers, shuffle=False)\n",
        "\n",
        "# Train the model\n",
        "train(resnet, train_loader, val_loader, optimizer, criterion, device, num_epochs=2)"
      ]
    },
    {
      "cell_type": "markdown",
      "metadata": {
        "id": "JmYxmnjA2WCv"
      },
      "source": [
        "Use 2-3 sentence, explain the why there is a performance gap between ResNet and ViT when they are trained with a short time.\n"
      ]
    },
    {
      "cell_type": "markdown",
      "metadata": {
        "id": "9Q2HHVkah3Sj"
      },
      "source": [
        "(Double click to edit)\n",
        "\n",
        "Your Answer:\n",
        "\n",
        "---"
      ]
    },
    {
      "cell_type": "markdown",
      "metadata": {
        "id": "cJrxzSFsrV6m"
      },
      "source": [
        "## Q2: Using your ViT for Semantic Segmentation (40 pt)\n",
        "\n",
        "In the previous part, you successfully implemented a ViT for image classification. The next step in this assignment is to use your ViT for dense prediction. Here, we will implement a semantic segmentation model using a pre-trained ViT as an image encoder. We will use the Oxford-IIIT Pet Dataset for this section.\n",
        "\n",
        "Recall that unlike a typical image classification model, which assigns a single classification label to the entire **image**, the semantic segmentation task assigns a label to every **pixel** of the image.\n",
        "\n"
      ]
    },
    {
      "cell_type": "markdown",
      "metadata": {
        "id": "n_GR_8J_bLaJ"
      },
      "source": [
        "### Q2.1 Setting up the dataset (10 pt)"
      ]
    },
    {
      "cell_type": "markdown",
      "metadata": {
        "id": "e6kN5Qc0tnYz"
      },
      "source": [
        "First, let's set up the dataset. We will be using one that is provided by PyTorch in the Torchvision package"
      ]
    },
    {
      "cell_type": "code",
      "execution_count": null,
      "metadata": {
        "id": "R3FS4WEZurv7"
      },
      "outputs": [],
      "source": [
        "# Download the dataset containing images and annotations\n",
        "!wget https://thor.robots.ox.ac.uk/~vgg/data/pets/images.tar.gz\n",
        "!wget https://thor.robots.ox.ac.uk/~vgg/data/pets/annotations.tar.gz"
      ]
    },
    {
      "cell_type": "code",
      "execution_count": null,
      "metadata": {
        "id": "4N80TynBvMTX"
      },
      "outputs": [],
      "source": [
        "# Extract images and annotations\n",
        "os.makedirs(os.path.join(root_dir, 'OxfordPets'), exist_ok=True)\n",
        "!tar -xzf images.tar.gz -C Assignment3/OxfordPets\n",
        "!tar -zxf annotations.tar.gz -C Assignment3/OxfordPets"
      ]
    },
    {
      "cell_type": "code",
      "execution_count": null,
      "metadata": {
        "id": "ggkkB2QhvpKd"
      },
      "outputs": [],
      "source": [
        "# Let's take a look at what is contained within the downloaded data\n",
        "print(\"---- annotations directory ----\")\n",
        "!ls Assignment3/OxfordPets/annotations/\n",
        "print(\"\\n---- images directory ----\")\n",
        "!ls Assignment3/OxfordPets/images | shuf | head -n 5\n",
        "print(\"\\n---- trainval.txt file ---\")\n",
        "!head -n 5 Assignment3/OxfordPets/annotations/trainval.txt\n",
        "print(\"\\n---- test.txt file ---\")\n",
        "!head -n 5 Assignment3/OxfordPets/annotations/test.txt\n",
        "print(\"\\n---- segmentation map directory ---\")\n",
        "!ls Assignment3/OxfordPets/annotations/trimaps | shuf | head -n 5"
      ]
    },
    {
      "cell_type": "code",
      "execution_count": null,
      "metadata": {
        "id": "VXJWyRYSBNg1"
      },
      "outputs": [],
      "source": [
        "import matplotlib.pyplot as plt\n",
        "\n",
        "# Lets visualize some of the files\n",
        "image_vis = Image.open(\"Assignment3/OxfordPets/images/Abyssinian_100.jpg\")\n",
        "segmap_vis = Image.open(\"Assignment3/OxfordPets/annotations/trimaps/Abyssinian_100.png\")\n",
        "\n",
        "# Visualize the image and shape\n",
        "plt.figure()\n",
        "plt.imshow(image_vis)\n",
        "plt.figure()\n",
        "plt.imshow(np.array(segmap_vis) / 3, cmap='gray', vmin=0.0, vmax=1.0)"
      ]
    },
    {
      "cell_type": "code",
      "execution_count": null,
      "metadata": {
        "id": "FZJ_1G9aCihj"
      },
      "outputs": [],
      "source": [
        "# Lets take a closer look at the values contained in the segmentation map\n",
        "print(\"--- shape ---\")\n",
        "print(np.array(segmap_vis).shape)\n",
        "print(\"\\n--- contents ---\")\n",
        "print(np.array(segmap_vis))\n",
        "print(\"\\n--- unique values ---\")\n",
        "print(np.unique(np.array(segmap_vis)))"
      ]
    },
    {
      "cell_type": "markdown",
      "metadata": {
        "id": "bQILzkdNC6cY"
      },
      "source": [
        "After inspecting the segmenetation map, we observe that it is single channel 2D array, with values either 1, 2, or 3.\n",
        "\n",
        "In the Oxford-IIIT Pets dataset, these values correspond to the labels\n",
        "\n",
        "1.   Pet\n",
        "2.   Background\n",
        "3.   Border\n"
      ]
    },
    {
      "cell_type": "markdown",
      "metadata": {
        "id": "PXxRBh0XbcV-"
      },
      "source": [
        "#### Q2.1.1 Define the segmentation dataset (5 pt)"
      ]
    },
    {
      "cell_type": "code",
      "execution_count": null,
      "metadata": {
        "id": "AOp0EYegxs-1"
      },
      "outputs": [],
      "source": [
        "import os\n",
        "import os.path\n",
        "import pathlib\n",
        "from typing import Any, Callable, Optional, Sequence, Tuple, Union\n",
        "\n",
        "from PIL import Image\n",
        "from torch.utils.data import Dataset\n",
        "from torchvision import transforms\n",
        "\n",
        "import matplotlib.pyplot as plt\n",
        "\n",
        "\n",
        "class OxfordIIITPetSegmentation(Dataset):\n",
        "    \"\"\"`Oxford-IIIT Pet Dataset   <https://www.robots.ox.ac.uk/~vgg/data/pets/>`_.\n",
        "\n",
        "    Args:\n",
        "        root (string): Root directory of the dataset.\n",
        "        split (string, optional): The dataset split, supports ``\"trainval\"`` (default) or ``\"test\"``.\n",
        "        transform (callable, optional): A function/transform that takes in a PIL image and returns a transformed\n",
        "            version. E.g, ``transforms.RandomCrop``.\n",
        "        target_transform (callable, optional): A function/transform that takes in the target and transforms it.\n",
        "    \"\"\"\n",
        "\n",
        "    def __init__(\n",
        "        self,\n",
        "        root: str,\n",
        "        split: str = \"trainval\",\n",
        "        transform: Optional[Callable] = None,\n",
        "        target_transform: Optional[Callable] = None,\n",
        "    ):\n",
        "        # Note that this dataset contains train, val, and test sets. For the purpose\n",
        "        # of this assignment, we will be combining both the train and val datasets\n",
        "        # for training, and use the test dataset for testing.\n",
        "        assert split in [\"trainval\", \"test\"]\n",
        "\n",
        "        self.transform = transform\n",
        "        self.target_transform = target_transform\n",
        "        self.split = split\n",
        "        self.root = root\n",
        "\n",
        "        self.base_folder = pathlib.Path(self.root) / \"OxfordPets\"\n",
        "        self.images_folder = self.base_folder / \"images\"\n",
        "        self.anns_folder = self.base_folder / \"annotations\"\n",
        "        self.segmaps_folder = self.anns_folder / \"trimaps\"\n",
        "\n",
        "        self.image_paths = []\n",
        "        self.segmap_paths = []\n",
        "\n",
        "\n",
        "        # Here, you will populate the arrays self.image_paths and self.seg_maps\n",
        "        #\n",
        "        # Hint: The format of trainval.txt looks like this\n",
        "        # ---- trainval.txt file ---\n",
        "        # Abyssinian_100 1 1 1\n",
        "        # Abyssinian_101 1 1 1\n",
        "        # ...\n",
        "        # ---------------------------\n",
        "        # where the first (space-separated) column of each line corresponds to the image name.\n",
        "        # You should be able use just this image name alone to populate both the\n",
        "        # self.image_paths field, and self.seg_maps field!\n",
        "\n",
        "        ################# Your Implementations #####################################\n",
        "\n",
        "\n",
        "\n",
        "        pass\n",
        "\n",
        "\n",
        "\n",
        "        ################# End of your Implementations ##############################\n",
        "\n",
        "\n",
        "    def __len__(self) -> int:\n",
        "        return len(self.image_paths)\n",
        "\n",
        "\n",
        "\n",
        "    def load_segmentation_map_tensor(self, idx):\n",
        "        # This function should load the segmentation map as a **Long** Tensor, ensuring\n",
        "        # that the tensor values are in the set {0,1,2}, where\n",
        "        # 0: Pet, 1: Background, 2: Border\n",
        "        #\n",
        "        # The expected shape of the loaded segmentation map should be 1 x H x W\n",
        "        segmap = None\n",
        "\n",
        "        ################# Your Implementations #####################################\n",
        "\n",
        "\n",
        "        pass\n",
        "\n",
        "\n",
        "        ################# End of your Implementations ##############################\n",
        "\n",
        "        return segmap\n",
        "\n",
        "    def __getitem__(self, idx: int) -> Tuple[Any, Any]:\n",
        "        image = Image.open(self.image_paths[idx]).convert(\"RGB\")\n",
        "        target = self.load_segmentation_map_tensor(idx)\n",
        "\n",
        "        if self.transform:\n",
        "          image = self.transform(image)\n",
        "\n",
        "        if self.target_transform:\n",
        "          target = self.target_transform(target)\n",
        "\n",
        "        return image, target"
      ]
    },
    {
      "cell_type": "markdown",
      "metadata": {
        "id": "TBgy3Ppbb7YX"
      },
      "source": [
        "####Q2.1.2 Define data transformations (5 pt)\n"
      ]
    },
    {
      "cell_type": "code",
      "execution_count": null,
      "metadata": {
        "id": "vi9eVPbmtuDr"
      },
      "outputs": [],
      "source": [
        "def tensor_to_image(image):\n",
        "    \"\"\"\n",
        "    Convert a tensor image back to a displayable image.\n",
        "\n",
        "    Args:\n",
        "        image (torch.Tensor): Tensor image to convert.\n",
        "\n",
        "    Returns:\n",
        "        numpy.ndarray: Displayable image.\n",
        "    \"\"\"\n",
        "    tensor_image = image.clone().detach()\n",
        "    tensor_image = tensor_image.permute(1, 2, 0)\n",
        "    tensor_image = tensor_image.mul_(image_net_std).add_(image_net_mean)\n",
        "    numpy_image = tensor_image.numpy()\n",
        "\n",
        "    return numpy_image\n",
        "\n",
        "image_transform = None\n",
        "target_transform = None\n",
        "normalize = transforms.Normalize(image_net_mean, image_net_std)\n",
        "\n",
        "# Now, let's define some transformations.\n",
        "# For the image, you should\n",
        "# 1.  Resize image such that min(height, width) = 64, while keeping aspect ratio\n",
        "# 2.  Center crop the resulting image to 3 x 64 x 64\n",
        "# 3.  Convert to a tensor\n",
        "# 4.  Normalize using the normalize function defined above\n",
        "\n",
        "# For the segmentation map, you should\n",
        "# 1.  Resize image such that min(height, width) = 64, while keeping aspect ratio\n",
        "# 2.  Center crop the resulting image to 3 x 64 x 64\n",
        "\n",
        "################# Your Implementations #####################################\n",
        "# At the end of this function, image_transform and target_transform should be\n",
        "# updated accordingly.\n",
        "# Hint: For step 1, transforms.Resize provides a very easy way of doing this\n",
        "# Hint: Use the NEAREST_EXACT resizing algorithm to make sure values of the\n",
        "#       segmentation mask are interpolated correctly\n",
        "\n",
        "\n",
        "\n",
        "\n",
        "pass\n",
        "\n",
        "\n",
        "\n",
        "\n",
        "\n",
        "################# End of your Implementations ##############################\n",
        "\n",
        "\n",
        "\n",
        "train_dataset = OxfordIIITPetSegmentation(root_dir, \"trainval\", image_transform, target_transform)\n",
        "val_dataset = OxfordIIITPetSegmentation(root_dir, \"test\", image_transform, target_transform)\n",
        "\n",
        "# Let's visualize the dataset!\n",
        "idx = 139\n",
        "plt.figure()\n",
        "plt.imshow(tensor_to_image(train_dataset[idx][0]))\n",
        "plt.title('Image')\n",
        "plt.figure()\n",
        "plt.imshow(train_dataset[idx][1].permute(1, 2, 0).numpy(), cmap='gray', vmin=0.0, vmax=1.0)\n",
        "plt.title('Segmentation map')\n",
        "\n",
        "# If your implementation is correct, all these asserts should pass\n",
        "assert train_dataset[idx][0].shape == (3, 64, 64)\n",
        "assert train_dataset[idx][1].shape == (1, 64, 64)\n",
        "assert np.all(np.unique(train_dataset[idx][1]) == np.array([0,1,2]))\n",
        "assert train_dataset[idx][1].dtype == torch.long"
      ]
    },
    {
      "cell_type": "markdown",
      "metadata": {
        "id": "f70uj7q_Ufk9"
      },
      "source": [
        "Next, let's define our network. For this exercise, we will be using a ViT as our image encoder, and a simple decoder that consist of a 2-layer convolutional network, followed by bilinear upsampling. This is inspired by the Naive Upsampling decoder used in the Segmentation Transformer model ([Rethinking Semantic Segmentation from a Sequence-to-Sequence Perspective\n",
        "with Transformers](https://arxiv.org/pdf/2012.15840.pdf))\n",
        "\n",
        "![image.png](data:image/png;base64,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)"
      ]
    },
    {
      "cell_type": "markdown",
      "metadata": {
        "id": "tBz9rgjYvgLu"
      },
      "source": [
        "Our decoder will take in the output of the ViT model before the MLP Head that has shape `(B x (N+1) x dim)`, and output a `(B x 1 x H x W)`\n",
        "segmentation map. Our decoder will work as follows:\n",
        "\n",
        "1.  Discard the CLS token, resulting in an output shape `(B x N x dim)`. Note that we do not need the CLS token anymore, since it is used primarily image-level statistics (i.e. class of the image). For semantic segmentation, we instead require a prediction for each individual pixel of the image.\n",
        "2.  Recall that N = Num. of Patches = `(H / patch_size) * (W / patch_size)`, where `H` and `W` are the height and width of the original image respectively. We will reshape the patches into a 2D image of height `H' = H / patch_size` and width `W' = W / patch_size`. The resulting output shape will be `(B x H' x W' x dim)`.\n",
        "3.  To be able to perform convolution operations, we will permute the resulting tensor to become `(B x dim x H' x W')`.\n",
        "4.  We will then pass the resulting output through two convolutional layers. The last layer will output a prediction of shape `(B x num_classes x H' x W')`, where `num_classes` corresponds to the number of classes to predict in the final segmentation map.\n",
        "5.  Remember `H'` and `W'` are of dimension `(H / patch_size)` and `(W / patch_size)` respectively. Since we want an output segmentation map with the same shape as the original image, we will upsample the map to have shape `(B x num_classes x H x W)`, corresponding to the predicted segmentation map.\n"
      ]
    },
    {
      "cell_type": "markdown",
      "metadata": {
        "id": "jKD1oemRcOfu"
      },
      "source": [
        "###Q2.2 Build the Segmentation Model (15 pt)"
      ]
    },
    {
      "cell_type": "markdown",
      "metadata": {
        "id": "lHQQwWt5cZ3M"
      },
      "source": [
        "#### Q2.2.1 Define the segmentation decoder (10 pt)"
      ]
    },
    {
      "cell_type": "code",
      "execution_count": null,
      "metadata": {
        "id": "GgChjezoUe_B"
      },
      "outputs": [],
      "source": [
        "class MySegmentationDecoder(nn.Module):\n",
        "    def __init__(self,\n",
        "                 image_size,\n",
        "                 patch_size,\n",
        "                 num_classes,\n",
        "                 dim):\n",
        "        super().__init__()\n",
        "        \"\"\"\n",
        "        Args:\n",
        "          image_size (int): the height/weight of the input image.\n",
        "          patch_size (int): image patch size. In the ViT paper, this value is 16.\n",
        "          num_classes (num_class): Number of image classes for MLP prediction head.\n",
        "          dim (int): patch and position embedding dimension.\n",
        "\n",
        "        Initialize the semantic segmentation decoder.\n",
        "        1) Discard CLS token: (B, N+1, dim) -> (B, N, dim)\n",
        "        2) Reshape output into 2D image with dim channels:\n",
        "           (B, N, dim) -> (B, dim, H', W') where\n",
        "            H' := image_size / patch_size\n",
        "            W' := image_size / patch_size\n",
        "        3) First 1x1 convolution: (B, dim, H', W') -> (B, dim, H', W')\n",
        "        4) Apply batch norm + ReLU on the result: (B, dim, H', W') -> (B, dim, H', W')\n",
        "        5) Second 1x1 convolution: (B, dim, H', W') -> (B, num_classes, H', W')\n",
        "        6) Upsample: (B, num_classes, H', W') -> (B, num_classes, H, W)\n",
        "                     where H = W = image_size\n",
        "        \"\"\"\n",
        "\n",
        "        self.image_size = image_size\n",
        "        self.patch_size = patch_size\n",
        "        self.num_classes = num_classes\n",
        "        self.dim = dim\n",
        "\n",
        "        self.conv1 = None\n",
        "        self.bn1 = None\n",
        "        self.conv2 = None\n",
        "\n",
        "        # Here, you should define\n",
        "        # 1) self.conv1: 1*1 kernel: (B, dim, H', W') -> (B, dim, H', W')\n",
        "        # 2) self.bn1: 2D Batch Norm: (B, dim, H', W') -> (B, dim, H', W')\n",
        "        # 3) self.conv2: 1*1 kernel, no bias: (B, dim, H', W') -> (B, num_classes, H', W')\n",
        "        ################# Your Implementations #################################\n",
        "\n",
        "\n",
        "        pass\n",
        "\n",
        "        ################# End of your Implementations ##########################\n",
        "\n",
        "    def forward(self, x):\n",
        "        '''\n",
        "        Forward pass of the segmentation decoder.\n",
        "        Args:\n",
        "            x (torch.Tensor): input tensor in the shape of (batch_size,N+1,dim).\n",
        "        Returns:\n",
        "            out (torch.Tensor): output tensor in the shape of (batch_size,num_classes,H,W).\n",
        "\n",
        "        The input tensor 'x' should pass through the following layers:\n",
        "        1) Discard CLS token\n",
        "        2) Reshape to (B, dim, H', W')\n",
        "        3) Apply first convolution layer\n",
        "        4) Apply batch norm followed by ReLU activation\n",
        "        5) Apply second convolution layer\n",
        "        6) Apply bilinear upsampling (you may use torch.nn.functional.interpolate)\n",
        "        '''\n",
        "        out = None\n",
        "\n",
        "        ################# Your Implementations #################################\n",
        "        # Hint: you may use\n",
        "        #     rearrange(x, 'b (h w) d -> b d h w', w=self.image_size // self.patch_size)\n",
        "\n",
        "\n",
        "\n",
        "        pass\n",
        "\n",
        "\n",
        "\n",
        "\n",
        "\n",
        "        ################# End of your Implementations ##########################\n",
        "        return out"
      ]
    },
    {
      "cell_type": "markdown",
      "metadata": {
        "id": "iWhYgUh44so-"
      },
      "source": [
        "Next, we will define the full ViT Segmentation Model using the ViT encoder and the custom decoder implemented above\n"
      ]
    },
    {
      "cell_type": "markdown",
      "metadata": {
        "id": "NZutiee7cecR"
      },
      "source": [
        "#### Q2.2.2 Combine the ViT encoder with the Segmentation Decoder (5 pt)"
      ]
    },
    {
      "cell_type": "code",
      "execution_count": null,
      "metadata": {
        "id": "HK3CNfIm4at8"
      },
      "outputs": [],
      "source": [
        "class MyVITSegmentationModel(nn.Module):\n",
        "  def __init__(self,\n",
        "               image_size,\n",
        "               patch_size,\n",
        "               num_classes,\n",
        "               dim,\n",
        "               depth,\n",
        "               heads,\n",
        "               mlp_dim,\n",
        "               channels = 3,\n",
        "               dim_head = 64,\n",
        "               dropout = 0.,\n",
        "               emb_dropout = 0.,\n",
        "              ):\n",
        "    super().__init__()\n",
        "    \"\"\"\n",
        "    Args:\n",
        "      image_size (int): the height/weight of the input image.\n",
        "      patch_size (int): image patch size. In the ViT paper, this value is 16.\n",
        "      num_classes (num_class): Number of image classes for MLP prediction head.\n",
        "      dim (int): patch and position embedding dimension.\n",
        "      depth (int): number of stacked transformer blocks.\n",
        "      heads (int): number of attention heads.\n",
        "      mlp_dim (int): inner dimension for MLP in transformer blocks.\n",
        "      channels (int): Input image channels. Set to 3 for RGB image.\n",
        "      dropout (float): dropout rate for transformer blocks.\n",
        "      emb_dropout (float): dropout rate for patch embedding.\n",
        "    \"\"\"\n",
        "\n",
        "    self.vit_encoder = None\n",
        "    self.decoder = None\n",
        "\n",
        "    # Here, you should define\n",
        "    # 1) self.vit_encoder: Use the parameters in __init__ to initialize the ViT encoder.\n",
        "    #    Remember to set pool='none' to get the output of the ViT before the MLP head\n",
        "    # 2) self.decoder: Use the parameters in __init__ to initialize MySegmentationDecoder\n",
        "    ################# Your Implementations #################################\n",
        "\n",
        "\n",
        "\n",
        "\n",
        "\n",
        "    pass\n",
        "\n",
        "\n",
        "\n",
        "\n",
        "\n",
        "\n",
        "\n",
        "    ################# End of your Implementations ##########################\n",
        "\n",
        "  def forward(self, x):\n",
        "    '''\n",
        "    Forward pass of the segmentation model.\n",
        "    Args:\n",
        "        img (torch.Tensor): input tensor in the shape of (batch_size,C,H,W).\n",
        "    Returns:\n",
        "        out (torch.Tensor): output segmentation map tensor in the shape of (batch_size,C,H,W).\n",
        "\n",
        "    The input tensor 'x' should pass through the following layers:\n",
        "    1) ViT Encoder\n",
        "    2) MySegmentationDecoder\n",
        "    '''\n",
        "\n",
        "    out = None\n",
        "\n",
        "    # Pass the input through the encoder and decoder\n",
        "    ################# Your Implementations #################################\n",
        "\n",
        "\n",
        "    pass\n",
        "\n",
        "\n",
        "    ################# End of your Implementations ##########################\n",
        "    return out"
      ]
    },
    {
      "cell_type": "code",
      "execution_count": null,
      "metadata": {
        "id": "_ekrV-Wt6fHo"
      },
      "outputs": [],
      "source": [
        "# You can use this cell to check the output shape of MyVITSegmentationModel\n",
        "for image_size in [32,64,128]:\n",
        "  test_tensor = torch.rand(2,3,image_size,image_size)\n",
        "  target_shape = (2,5,image_size,image_size)\n",
        "  test_model =  MyVITSegmentationModel(image_size = image_size,\n",
        "    patch_size = 16,\n",
        "    num_classes = 5,\n",
        "    dim = 192,\n",
        "    depth = 8,\n",
        "    heads = 4,\n",
        "    dim_head = 48,\n",
        "    mlp_dim = 768,\n",
        "    dropout = 0.1,\n",
        "    emb_dropout = 0.1\n",
        "  )\n",
        "  output_tensor = test_model(test_tensor)\n",
        "  equal =  target_shape == output_tensor.shape\n",
        "  if equal:\n",
        "    print('Good! For image size: %d, the output shape is correct' %(image_size))\n",
        "  else:\n",
        "    print('Uh-oh! For image size: %d, the output shape is wrong' %(image_size))\n",
        "    break\n",
        "\n",
        "for patch_size in [4,8,16]:\n",
        "  test_tensor = torch.rand(2,3,64,64)\n",
        "  target_shape = (2,10,64,64)\n",
        "  test_model =  MyVITSegmentationModel(image_size = 64,\n",
        "    patch_size = patch_size,\n",
        "    num_classes = 10,\n",
        "    dim = 192,\n",
        "    depth = 8,\n",
        "    heads = 4,\n",
        "    dim_head = 48,\n",
        "    mlp_dim = 768,\n",
        "    dropout = 0.1,\n",
        "    emb_dropout = 0.1\n",
        "  )\n",
        "  output_tensor = test_model(test_tensor)\n",
        "  equal =  target_shape == output_tensor.shape\n",
        "  if equal:\n",
        "    print('Good! For patch_size: %d, the output shape is correct' %(patch_size))\n",
        "  else:\n",
        "    print('Uh-oh! For patch_size: %d, the output shape is wrong' %(patch_size))\n",
        "    break"
      ]
    },
    {
      "cell_type": "markdown",
      "metadata": {
        "id": "1_kGOzAycn1G"
      },
      "source": [
        "### Q2.3 Build the training pipeline (15 pt)\n",
        "\n"
      ]
    },
    {
      "cell_type": "markdown",
      "metadata": {
        "id": "NYXDz3y_8b4P"
      },
      "source": [
        "Now, let's define our training and validation script. Our scripts will be mostly the same as before, except we will be using two different metrics for our validation criterion: IoU and Dice Coefficient.\n",
        "\n",
        "Recall IoU is defined as\n",
        "$$\\frac{TP}{TP + FP + FN}$$\n",
        "In other words, given two sets $X, Y$, this gives $$\\frac{|X \\cap Y|}{|X \\cup Y|}$$\n",
        "\n",
        "\n",
        "and the Dice Coefficient (or F1 score) is defined as\n",
        "$$\\frac{2 \\cdot TP}{2 \\cdot TP + FP + FN}$$\n",
        "In other words, given two sets $X, Y$, this gives $$\\frac{2\\cdot|X \\cap Y|}{|X| +|Y|}$$"
      ]
    },
    {
      "cell_type": "markdown",
      "metadata": {
        "id": "jtFZDXbHdDGK"
      },
      "source": [
        "#### Q2.3.2 Defining IoU and DICE metrics (10 pt)"
      ]
    },
    {
      "cell_type": "code",
      "execution_count": null,
      "metadata": {
        "id": "3_A7wGiPAWpP"
      },
      "outputs": [],
      "source": [
        "def mean_iou(logits, target):\n",
        "  \"\"\"\n",
        "  Computes the mean iou score given the predicted and target segmentation map.\n",
        "  Args:\n",
        "    logits (torch.Tensor): logits tensor in the shape of (num_classes,H,W)\n",
        "    target (torch.Tensor): tensor of type Long in the shape of (H,W)\n",
        "    Returns:\n",
        "        out (float): single scalar quantity representing the mean iou score\n",
        "  \"\"\"\n",
        "\n",
        "  out = None\n",
        "  eps = 1.0\n",
        "  # Recall that the IoU score for each class label is computed as\n",
        "  # intersection (of positive predictions) over union (of positive predictions)\n",
        "  # Return the mean iou score over all class labels and batch size\n",
        "  ################# Your Implementations #################################\n",
        "  # Hint: First, convert the logits (B, 3, H, W) to class predictions (B, H, W)\n",
        "  # Hint: You can use torch.logical_and (or just simply multiplication),\n",
        "  #       and torch.logical_or for computing intersections and unions\n",
        "  # Hint: You can use tensor.item() to extract a scalar from a tensor\n",
        "  # Hint: Use \"eps\" to avoid division by zero. Make sure to add eps to both the\n",
        "  #       numerator and denominator!\n",
        "\n",
        "\n",
        "\n",
        "\n",
        "  pass\n",
        "\n",
        "\n",
        "\n",
        "\n",
        "\n",
        "\n",
        "\n",
        "  ################# End of your Implementations ##########################\n",
        "  return out\n",
        "\n",
        "\n",
        "def dice_coeff(logits, target):\n",
        "  \"\"\"\n",
        "  Computes the dice coefficient (a.k.a. F1 score) given the predicted and target segmentation map.\n",
        "  Args:\n",
        "    logits (torch.Tensor): logits tensor in the shape of (batch_size,num_classes,H,W)\n",
        "    target (torch.Tensor): tensor of type Long in the shape of (batch_size,H,W)\n",
        "  Returns:\n",
        "    out (float): single scalar quantity representing the dice coefficient score\n",
        "  \"\"\"\n",
        "\n",
        "  out = None\n",
        "  eps = 1.0\n",
        "\n",
        "  # Return the mean dice coefficient over all class labels and batch size\n",
        "  ################# Your Implementations #################################\n",
        "\n",
        "\n",
        "\n",
        "\n",
        "  pass\n",
        "\n",
        "\n",
        "\n",
        "\n",
        "\n",
        "\n",
        "  ################# End of your Implementations ##########################\n",
        "\n",
        "  return out"
      ]
    },
    {
      "cell_type": "code",
      "execution_count": null,
      "metadata": {
        "id": "4nnkFM6y_UPV"
      },
      "outputs": [],
      "source": [
        "def train_seg(model, train_loader, val_loader, optimizer, criterion, device, num_epochs):\n",
        "    \"\"\"\n",
        "    Train the segmentation model on the training set and evaluate it on the validation set every epoch.\n",
        "\n",
        "    Args:\n",
        "        model (MLP): MLP classifier to train.\n",
        "        train_loader (torch.utils.data.DataLoader): Data loader for the training set.\n",
        "        val_loader (torch.utils.data.DataLoader): Data loader for the validation set.\n",
        "        optimizer (torch.optim.Optimizer): Optimizer to use for training.\n",
        "        criterion (callable): Loss function to use for training.\n",
        "        device (torch.device): Device to use for training.\n",
        "        num_epochs (int): Number of epochs to train the model.\n",
        "    \"\"\"\n",
        "    # Place model on device\n",
        "    model = model.to(device)\n",
        "\n",
        "    for epoch in range(num_epochs):\n",
        "        model.train()  # Set model to training mode\n",
        "\n",
        "        # Use tqdm to display a progress bar during training\n",
        "        with tqdm(total=len(train_loader), desc=f'Epoch {epoch + 1}/{num_epochs}') as pbar:\n",
        "            for inputs, labels in train_loader:\n",
        "                # Move inputs and labels to device\n",
        "                inputs = inputs.to(device)\n",
        "                labels = labels.to(device)\n",
        "\n",
        "                # Zero out gradients\n",
        "                optimizer.zero_grad()\n",
        "\n",
        "                # Compute the logits and loss\n",
        "                logits = model(inputs)\n",
        "\n",
        "                loss = criterion(logits, labels.squeeze())\n",
        "\n",
        "                # Backpropagate the loss\n",
        "                loss.backward()\n",
        "\n",
        "                # Update the weights\n",
        "                optimizer.step()\n",
        "\n",
        "                # Update the progress bar\n",
        "                pbar.update(1)\n",
        "                pbar.set_postfix(loss=loss.item())\n",
        "\n",
        "        # Evaluate the model on the validation set\n",
        "        avg_loss, avg_iou, avg_dice = evaluate_seg(model, val_loader, criterion, device)\n",
        "        print(f'Validation set: Average loss = {avg_loss:.4f}, Average IoU = {avg_iou:.4f}, Average DICE = {avg_dice:.4f}')\n",
        "\n",
        "\n",
        "def evaluate_seg(model, test_loader, criterion, device):\n",
        "    \"\"\"\n",
        "    Evaluate the MLP classifier on the test set.\n",
        "\n",
        "    Args:\n",
        "        model (MLP): MLP classifier to evaluate.\n",
        "        test_loader (torch.utils.data.DataLoader): Data loader for the test set.\n",
        "        criterion (callable): Loss function to use for evaluation.\n",
        "        device (torch.device): Device to use for evaluation.\n",
        "\n",
        "    Returns:\n",
        "        float: Average loss on the test set.\n",
        "        float: Accuracy on the test set.\n",
        "    \"\"\"\n",
        "    model.eval()  # Set model to evaluation mode\n",
        "\n",
        "    with torch.no_grad():\n",
        "        total_loss = 0.0\n",
        "        total_iou = 0.0\n",
        "        total_dice = 0.0\n",
        "        num_samples = 0\n",
        "\n",
        "        for inputs, labels in test_loader:\n",
        "            # Move inputs and labels to device\n",
        "            inputs = inputs.to(device)\n",
        "            labels = labels.to(device)\n",
        "\n",
        "            # Compute the logits and loss\n",
        "            logits = model(inputs)\n",
        "            loss = criterion(logits, labels.squeeze())\n",
        "            total_loss += loss.item()\n",
        "\n",
        "            for logits_b, labels_b in zip(logits, labels):\n",
        "              # Compute the iou score\n",
        "              iou = mean_iou(logits_b, labels_b.squeeze(0))\n",
        "              total_iou += iou\n",
        "\n",
        "              # Compute the dice score\n",
        "              dice = dice_coeff(logits_b, labels_b.squeeze(0))\n",
        "              total_dice += dice\n",
        "\n",
        "            num_samples += len(inputs)\n",
        "\n",
        "    # Compute the average loss and accuracy\n",
        "    avg_loss = total_loss / len(test_loader)\n",
        "    avg_iou = total_iou / num_samples\n",
        "    avg_dice = total_dice / num_samples\n",
        "\n",
        "    return avg_loss, avg_iou, avg_dice"
      ]
    },
    {
      "cell_type": "code",
      "execution_count": null,
      "metadata": {
        "id": "ZdtHzv1I8bPM"
      },
      "outputs": [],
      "source": [
        "seed_everything(0)\n",
        "\n",
        "# Define the model, optimizer, and criterion (loss_fn)\n",
        "model = MyVITSegmentationModel(image_size = 64,\n",
        "    patch_size = 8,\n",
        "    num_classes = 3,\n",
        "    dim = 192,\n",
        "    depth = 8,\n",
        "    heads = 4,\n",
        "    dim_head = 48,\n",
        "    mlp_dim = 768,\n",
        "    dropout = 0.1,\n",
        "    emb_dropout = 0.1\n",
        "           )\n",
        "\n",
        "optimizer = torch.optim.AdamW(\n",
        "    model.parameters(),\n",
        "    lr=1e-4,)\n",
        "\n",
        "criterion = nn.CrossEntropyLoss()\n",
        "\n",
        "# Define the batch size and number of workers\n",
        "batch_size = 32\n",
        "num_workers = 2\n",
        "\n",
        "# Define the data loaders\n",
        "train_loader = torch.utils.data.DataLoader(\n",
        "    train_dataset, batch_size=batch_size, num_workers=num_workers, shuffle=True)\n",
        "val_loader = torch.utils.data.DataLoader(\n",
        "    val_dataset, batch_size=batch_size, num_workers=num_workers, shuffle=False)\n",
        "\n",
        "# Train the model\n",
        "train_seg(model, train_loader, val_loader, optimizer, criterion, device, num_epochs=2)"
      ]
    },
    {
      "cell_type": "markdown",
      "metadata": {
        "id": "EzFs6vzqdoks"
      },
      "source": [
        "I get a mean validation loss of 0.70, IoU of 0.40, and DICE of 0.49. How about you?"
      ]
    },
    {
      "cell_type": "code",
      "execution_count": null,
      "metadata": {
        "id": "UQ_2Rb4yLRRV"
      },
      "outputs": [],
      "source": [
        "# Let's visualize what our model has predicted!\n",
        " #(You can run this cell multiple times to see how your model performs on different inputs)\n",
        "\n",
        "idx = np.random.randint(0, len(val_dataset)-1)\n",
        "img, target = val_dataset[idx]\n",
        "target_vis = target.float().permute(1,2,0).numpy() / 2\n",
        "with torch.inference_mode():\n",
        "  img = img.to(device).unsqueeze(0)\n",
        "  pred = model(img).squeeze(0).argmax(dim=0)\n",
        "  pred_vis = pred.float().numpy() / 2\n",
        "\n",
        "fig, axs = plt.subplots(1,3, figsize=(10,8))\n",
        "axs[0].axis(\"off\")\n",
        "axs[0].imshow(tensor_to_image(img[0]))\n",
        "axs[0].set_title(\"Image\")\n",
        "axs[1].axis(\"off\")\n",
        "axs[1].imshow(pred_vis, cmap='gray', vmin=0.0, vmax=1.0)\n",
        "axs[2].axis(\"off\")\n",
        "axs[1].set_title(\"Predicted\")\n",
        "axs[2].imshow(target_vis, cmap='gray', vmin=0.0, vmax=1.0)\n",
        "axs[2].set_title(\"Ground truth\")\n",
        "plt.show()"
      ]
    },
    {
      "cell_type": "markdown",
      "metadata": {
        "id": "LzZtR4sEKKnt"
      },
      "source": [
        "In a few sentences, what is the difference between IoU and DICE score, and why do we need both?"
      ]
    },
    {
      "cell_type": "markdown",
      "metadata": {
        "id": "uKIfcSiCc2uU"
      },
      "source": [
        "#### Q2.3.2 Question on validation metrics (5 pt)"
      ]
    },
    {
      "cell_type": "markdown",
      "metadata": {
        "id": "IS8zPURWKIz0"
      },
      "source": [
        "(Double click to edit)\n",
        "\n",
        "Your Answer:\n",
        "\n",
        "---"
      ]
    },
    {
      "cell_type": "markdown",
      "metadata": {
        "id": "JobVeJdYckeO"
      },
      "source": [
        "## Q3: Segment Anything - A state-of-the-art semantic segmentation model (0 pts, just for fun)"
      ]
    },
    {
      "cell_type": "markdown",
      "metadata": {
        "id": "WUMb3HyAcyFj"
      },
      "source": [
        "In this section, we will try out one of the best semantic segmentation models available, and see what it can do!\n",
        "\n",
        "We will be running [Segment Anything (SAM)](https://segment-anything.com/) by Meta AI. Since it is already pre-trained, we will simply use it for inference. First, let's install it and download the pre-trained Segment Anything model. We will be using the model based on ViT-Huge.\n",
        "\n",
        "This section will be based off the automatic mask generator class in SegmentAnything, which provides an effective API to generate segmentation masks for an entire image.\n",
        "This section is inspired by https://github.com/facebookresearch/segment-anything/blob/main/notebooks/automatic_mask_generator_example.ipynb"
      ]
    },
    {
      "cell_type": "code",
      "execution_count": null,
      "metadata": {
        "colab": {
          "background_save": true
        },
        "id": "ZQrn8BgJcqM-",
        "outputId": "535b7084-5b3f-44b1-9891-05820dceb1f4"
      },
      "outputs": [
        {
          "name": "stdout",
          "output_type": "stream",
          "text": [
            "  Preparing metadata (setup.py) ... \u001b[?25l\u001b[?25hdone\n",
            "  Building wheel for segment-anything (setup.py) ... \u001b[?25l\u001b[?25hdone\n"
          ]
        }
      ],
      "source": [
        "import os\n",
        "import torch\n",
        "\n",
        "# Install the segment anything package\n",
        "!pip install -q 'git+https://github.com/facebookresearch/segment-anything.git'\n",
        "# Download the pre-trained weights\n",
        "os.makedirs(os.path.join('./Assignment3', 'SegmentAnything', 'weights'), exist_ok=True)\n",
        "!wget -q https://dl.fbaipublicfiles.com/segment_anything/sam_vit_h_4b8939.pth -P Assignment3/SegmentAnything/weights\n",
        "weights_path = os.path.join('./Assignment3', 'SegmentAnything', 'weights', \"sam_vit_h_4b8939.pth\")\n",
        "\n",
        "device = torch.device('cuda' if torch.cuda.is_available() else 'cpu')\n",
        "\n"
      ]
    },
    {
      "cell_type": "markdown",
      "metadata": {
        "id": "YiN0cfWviIjI"
      },
      "source": [
        "Now that all the setup is done, let's load the model!"
      ]
    },
    {
      "cell_type": "code",
      "execution_count": null,
      "metadata": {
        "id": "UzNf6ZqwfN6R"
      },
      "outputs": [],
      "source": [
        "from PIL import Image\n",
        "from segment_anything import sam_model_registry, SamAutomaticMaskGenerator, SamPredictor\n",
        "\n",
        "# Load the SAM model\n",
        "sam = sam_model_registry['vit_h'](checkpoint=weights_path).to(device=device)\n",
        "# Use the automated mask generator class for generating segmentation masks\n",
        "mask_generator = SamAutomaticMaskGenerator(sam)"
      ]
    },
    {
      "cell_type": "markdown",
      "metadata": {
        "id": "8bg3-OYwimUs"
      },
      "source": [
        "Now, let's download in image to use with SAM. A fun activity would be to replace this default image with whatever you choose :)"
      ]
    },
    {
      "cell_type": "code",
      "execution_count": null,
      "metadata": {
        "id": "5DWU_QZwgGxB"
      },
      "outputs": [],
      "source": [
        "from PIL import Image\n",
        "import matplotlib.pyplot as plt\n",
        "\n",
        "!wget https://s3.amazonaws.com/cms.ipressroom.com/173/files/20198/5d72b4772cfac209ff04c634_Royce+Quad/Royce+Quad_hero.jpg \\\n",
        "-O Assignment3/SegmentAnything/image.jpg\n",
        "\n",
        "image = Image.open(\"Assignment3/SegmentAnything/image.jpg\")\n",
        "\n",
        "# Take a look at our image\n",
        "plt.figure(figsize=(20,20))\n",
        "plt.imshow(image)\n",
        "plt.axis('off')\n",
        "plt.show()\n"
      ]
    },
    {
      "cell_type": "markdown",
      "metadata": {
        "id": "EPG7TWkslEUB"
      },
      "source": [
        "Now, let's generate our mask!\n",
        "\n",
        "Mask generation returns a list over masks, where each mask is a dictionary containing various data about the mask. These keys are:\n",
        "\n",
        "- segmentation : the mask\n",
        "- area : the area of the mask in pixels\n",
        "- bbox : the boundary box of the mask in XYWH format\n",
        "- predicted_iou : the model's own prediction for the quality of the mask\n",
        "- point_coords : the sampled input point that generated this mask\n",
        "- stability_score : an additional measure of mask quality\n",
        "- crop_box : the crop of the image used to generate this mask in XYWH format\n",
        "\n",
        "(as described by https://github.com/facebookresearch/segment-anything/blob/main/notebooks/automatic_mask_generator_example.ipynb)"
      ]
    },
    {
      "cell_type": "code",
      "execution_count": null,
      "metadata": {
        "id": "_btp6lqwjzzh"
      },
      "outputs": [],
      "source": [
        "import numpy as np\n",
        "\n",
        "masks = mask_generator.generate(np.array(image))\n",
        "# masks now contains a list of segmentation masks, stored in the form of a dictionary\n",
        "print(type(masks))\n",
        "print(masks[0].keys())"
      ]
    },
    {
      "cell_type": "markdown",
      "metadata": {
        "id": "10oup-P2l2S6"
      },
      "source": [
        "Let's visualize our segmentations!"
      ]
    },
    {
      "cell_type": "code",
      "execution_count": null,
      "metadata": {
        "id": "QZnX3NZgmAqb"
      },
      "outputs": [],
      "source": [
        "# helper function to visualize masks, taken from https://github.com/facebookresearch/segment-anything/blob/main/notebooks/automatic_mask_generator_example.ipynb\n",
        "def show_anns(anns):\n",
        "    if len(anns) == 0:\n",
        "        return\n",
        "    sorted_anns = sorted(anns, key=(lambda x: x['area']), reverse=True)\n",
        "    ax = plt.gca()\n",
        "    ax.set_autoscale_on(False)\n",
        "\n",
        "    img = np.ones((sorted_anns[0]['segmentation'].shape[0], sorted_anns[0]['segmentation'].shape[1], 4))\n",
        "    img[:,:,3] = 0\n",
        "    for ann in sorted_anns:\n",
        "        m = ann['segmentation']\n",
        "        color_mask = np.concatenate([np.random.random(3), [0.35]])\n",
        "        img[m] = color_mask\n",
        "    ax.imshow(img)"
      ]
    },
    {
      "cell_type": "code",
      "execution_count": null,
      "metadata": {
        "id": "ZlcDzPYSlYvl"
      },
      "outputs": [],
      "source": [
        "plt.figure(figsize=(20,20))\n",
        "plt.imshow(image)\n",
        "show_anns(masks)\n",
        "plt.axis('off')\n",
        "plt.show()"
      ]
    },
    {
      "cell_type": "markdown",
      "metadata": {
        "id": "nQioTtd-mWio"
      },
      "source": [
        "You can play around with this and segment your own images, have fun!"
      ]
    }
  ],
  "metadata": {
    "accelerator": "GPU",
    "colab": {
      "collapsed_sections": [
        "X42ej8ZhF1q4"
      ],
      "provenance": [],
      "gpuClass": "premium"
    },
    "gpuClass": "premium",
    "kernelspec": {
      "display_name": "Python 3 (ipykernel)",
      "language": "python",
      "name": "python3"
    },
    "language_info": {
      "codemirror_mode": {
        "name": "ipython",
        "version": 3
      },
      "file_extension": ".py",
      "mimetype": "text/x-python",
      "name": "python",
      "nbconvert_exporter": "python",
      "pygments_lexer": "ipython3",
      "version": "3.9.0"
    }
  },
  "nbformat": 4,
  "nbformat_minor": 0
}