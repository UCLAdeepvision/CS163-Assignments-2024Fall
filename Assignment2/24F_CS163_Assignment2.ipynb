{
  "cells": [
    {
      "cell_type": "markdown",
      "metadata": {
        "id": "Mb2eovi0nfh9"
      },
      "source": [
        "# Assignment 2\n",
        "\n",
        "Welcome to the second assignment! We're excited to see what you'll create using the techniques you've learned in this course.\n",
        "\n",
        "First of all, please type your name and UID in the following format:\n",
        "\n",
        "Firstname Lastname, #UID"
      ]
    },
    {
      "cell_type": "code",
      "execution_count": null,
      "metadata": {
        "id": "oPW1ZnKxnkua"
      },
      "outputs": [],
      "source": [
        "#@title Your Info { display-mode: \"form\" }\n",
        "\n",
        "Name = ''  #@param {type:\"string\"}\n",
        "UID = ''  #@param {type:\"string\"}"
      ]
    },
    {
      "cell_type": "markdown",
      "metadata": {
        "id": "mbqmTtixn70A"
      },
      "source": [
        "### Goals\n",
        "The goals of this assignment are to:\n",
        "\n",
        "1. Build and train a convolutional neural network from scratch and using built-in PyTorch modules.\n",
        "2. Build ResNet-18 from scarch and Finetune it different strategies.\n",
        "3. Visualize the attention of ResNet using Class Activation Mapping\n",
        "4. Come up with your own model and compete on a test leaderboard for extra credit.\n",
        "\n",
        "By the end of this assignment, you will have gained experience with:\n",
        "\n",
        "- Implementing and training cnns using PyTorch.\n",
        "- Designing you own neural networks with the tips and tricks\n",
        "- Debugging and troubleshooting issues that may arise during the development process.\n",
        "\n",
        "Please note that it may take some time to run the entire notebook and prepare the submission version. Make sure to allocate enough time for this task and start early. If you have any questions or run into any issues, please feel free to raise them in the Piazza forum or search the internet for debugging purposes. However, please do not directly copy code from other sources.\n",
        "\n",
        "This assignment is due on **Sunday, Nov 3**.\n",
        "\n",
        "**Do not use any Code AI to finish the assignment.**\n",
        "\n",
        "\n",
        "Good luck and happy coding! Remember, the most important thing is to have fun and learn something new.\n",
        "\n",
        "\n",
        "\n"
      ]
    },
    {
      "cell_type": "markdown",
      "metadata": {
        "id": "rAPYVBXRiSzu"
      },
      "source": [
        "## Q0: Data Preparation(0 pts)\n",
        "\n",
        "As in Assignment 1, we first download the MiniPlaces dataset and upload it to Colab using the following codes.\n",
        "\n",
        "Note that everytime you open up this notebook, we will need to **re-download and process the dataset**. Don't worry though - this shouldn't take long, usually just a minute or less. Okay, let's get started!"
      ]
    },
    {
      "cell_type": "markdown",
      "metadata": {
        "id": "2NKJHZnAiSzu"
      },
      "source": [
        "To begin, you will need to download the Miniplaces Dataset from its google drive file ID.\n",
        "\n",
        "Downloading this dataset typically takes less than 15 seconds."
      ]
    },
    {
      "cell_type": "code",
      "execution_count": null,
      "metadata": {
        "colab": {
          "base_uri": "https://localhost:8080/"
        },
        "id": "qlwPy_T1iSzv",
        "outputId": "49d85ad9-d050-4aa4-9625-b741d6814016"
      },
      "outputs": [],
      "source": [
        "# Downloading this file takes about a few seconds.\n",
        "# Download the tar.gz file from google drive using its file ID.\n",
        "!pip3 install --upgrade gdown --quiet\n",
        "# unfortunately, only the following command seems to be constantly working...\n",
        "!wget https://web.cs.ucla.edu/~smo3/data.tar.gz\n"
      ]
    },
    {
      "cell_type": "markdown",
      "metadata": {
        "id": "hwCHnmTbiSzv"
      },
      "source": [
        "In the following code, we setup the root directory for our project, extract the dataset to the root directory, and download the label files."
      ]
    },
    {
      "cell_type": "code",
      "execution_count": null,
      "metadata": {
        "colab": {
          "base_uri": "https://localhost:8080/"
        },
        "id": "KcIxA_bviSzv",
        "outputId": "27d2a41a-b040-431b-bf13-08aaf0cdeb82"
      },
      "outputs": [],
      "source": [
        "import os\n",
        "\n",
        "# Let's make our assignment directory\n",
        "CS163_path = './CS163_W24'\n",
        "os.makedirs(os.path.join(CS163_path, 'Assignment2', 'data'), exist_ok=True)\n",
        "# os.makedirs will create directories recursively, i.e., it will create the\n",
        "# directories and any missing parent directories if they do not exist.\n",
        "\n",
        "# Now, let's specify the assignment path we will be working with as the root.\n",
        "root_dir = os.path.join(CS163_path, 'Assignment2')\n",
        "\n",
        "import os\n",
        "import tarfile\n",
        "import urllib.request\n",
        "\n",
        "from tqdm import tqdm\n",
        "\n",
        "\n",
        "def setup(file_link_dict={}):\n",
        "    # Open the tar.gz file\n",
        "    tar = tarfile.open(\"data.tar.gz\", \"r:gz\")\n",
        "    # Extract the file \"./Assignment2/data\" folder\n",
        "    total_size = sum(f.size for f in tar.getmembers())\n",
        "    with tqdm(total=total_size,\n",
        "              unit=\"B\",\n",
        "              unit_scale=True,\n",
        "              desc=\"Extracting tar.gz file\") as pbar:\n",
        "        for member in tar.getmembers():\n",
        "            tar.extract(member, os.path.join(root_dir, 'data'))\n",
        "            pbar.update(member.size)\n",
        "    # Close the tar.gz file\n",
        "    tar.close()\n",
        "\n",
        "    # Next, we download the train/val/test txt files:\n",
        "    for file_name, file_link in file_link_dict.items():\n",
        "        print(f'Downloding {file_name}.txt from {file_link}')\n",
        "        urllib.request.urlretrieve(file_link,\n",
        "                                   f'{root_dir}/data/{file_name}.txt')\n",
        "\n",
        "\n",
        "val_url = 'https://raw.githubusercontent.com/CSAILVision/miniplaces/master/data/val.txt'\n",
        "train_url = 'https://raw.githubusercontent.com/CSAILVision/miniplaces/master/data/train.txt'\n",
        "setup(file_link_dict={'train': train_url, 'val': val_url}, )"
      ]
    },
    {
      "cell_type": "markdown",
      "metadata": {
        "id": "Qv4LzTssiSzv"
      },
      "source": [
        "Also, it is a good habit to setup the seed before running any experiment to ensure reproducibility."
      ]
    },
    {
      "cell_type": "code",
      "execution_count": null,
      "metadata": {
        "id": "StULBVwBiSzw"
      },
      "outputs": [],
      "source": [
        "# Also, seed everything for reproducibility\n",
        "# code from https://gist.github.com/ihoromi4/b681a9088f348942b01711f251e5f964#file-seed_everything-py\n",
        "def seed_everything(seed: int):\n",
        "    import os\n",
        "    import random\n",
        "\n",
        "    import numpy as np\n",
        "    import torch\n",
        "    random.seed(seed)\n",
        "    os.environ['PYTHONHASHSEED'] = str(seed)\n",
        "    np.random.seed(seed)\n",
        "    torch.manual_seed(seed)\n",
        "    torch.cuda.manual_seed(seed)\n",
        "    torch.backends.cudnn.deterministic = True\n",
        "    torch.backends.cudnn.benchmark = True\n",
        "\n",
        "\n",
        "seed_everything(0)"
      ]
    },
    {
      "cell_type": "markdown",
      "metadata": {
        "id": "LbU4YxnniSzw"
      },
      "source": [
        "In the following, fill in the PyTorch MiniPlaces dataset you implemented in Assignment 1(we will release the key for A1 after it's due.)\n",
        "Since, we will be focused on convolutional neural networks for this assignment, **there's no need to flatten the image to a vector**. In addition, to fully utilize the modelling power of convolutional neural networks, we will not downsample the image and use its original size. Therefore, the output size of the image tensor should be $[3, 128, 128]$, please update the image transformation in the codeblock below"
      ]
    },
    {
      "cell_type": "code",
      "execution_count": null,
      "metadata": {
        "id": "ejsHdipsiSzw"
      },
      "outputs": [],
      "source": [
        "import torch\n",
        "from PIL import Image\n",
        "from torchvision import transforms\n",
        "\n",
        "image_net_mean = torch.Tensor([0.485, 0.456, 0.406])\n",
        "image_net_std = torch.Tensor([0.229, 0.224, 0.225])\n",
        "# Define data transformation\n",
        "data_transform = transforms.Compose([\n",
        "    ################# Your Implementations #####################################\n",
        "    # TODO: Resize image to 128x128,\n",
        "    ################# End of your Implementations ##############################\n",
        "    transforms.ToTensor(),\n",
        "\n",
        "    ################# Your Implementations #####################################\n",
        "    # TODO: Normalize image using ImageNet statistics\n",
        "    ################# End of your Implementations ##############################\n",
        "])"
      ]
    },
    {
      "cell_type": "markdown",
      "metadata": {
        "id": "9BSBboj0iSzw"
      },
      "source": [
        "Also, we will be using the same Pytorch dataset definition in A1, just copy your implementations here:"
      ]
    },
    {
      "cell_type": "code",
      "execution_count": null,
      "metadata": {
        "id": "6tteAzHjiSzw"
      },
      "outputs": [],
      "source": [
        "import os\n",
        "\n",
        "from torch.utils.data import DataLoader, Dataset\n",
        "\n",
        "\n",
        "class MiniPlaces(Dataset):\n",
        "\n",
        "    def __init__(self, root_dir, split, transform=None, label_dict=None):\n",
        "        \"\"\"\n",
        "        Initialize the MiniPlaces dataset with the root directory for the images,\n",
        "        the split (train/val/test), an optional data transformation,\n",
        "        and an optional label dictionary.\n",
        "\n",
        "        Args:\n",
        "            root_dir (str): Root directory for the MiniPlaces images.\n",
        "            split (str): Split to use ('train', 'val', or 'test').\n",
        "            transform (callable, optional): Optional data transformation to apply to the images.\n",
        "            label_dict (dict, optional): Optional dictionary mapping integer labels to class names.\n",
        "        \"\"\"\n",
        "        assert split in ['train', 'val', 'test']\n",
        "        self.root_dir = root_dir\n",
        "        self.split = split\n",
        "        self.transform = transform\n",
        "        self.filenames = []\n",
        "        self.labels = []\n",
        "\n",
        "        # Take a second to think why we need this line.\n",
        "        # Hints: training set / validation set / test set.\n",
        "        self.label_dict = label_dict if label_dict is not None else {}\n",
        "\n",
        "        # You should\n",
        "        #   1. Load the train/val/test text file based on the `split` argument and\n",
        "        #     store the image filenames and labels.\n",
        "        #   2. Extract the class names from the image filenames and store them in\n",
        "        #     self.label_dict.\n",
        "        #   3. Construct a label dict that maps integer labels to class names, if\n",
        "        #     the current split is \"train\"\n",
        "        ################# Your Implementations #################################\n",
        "\n",
        "        ################# End of your Implementations ##########################\n",
        "\n",
        "    def __len__(self):\n",
        "        \"\"\"\n",
        "        Return the number of images in the dataset.\n",
        "\n",
        "        Returns:\n",
        "            int: Number of images in the dataset.\n",
        "        \"\"\"\n",
        "        dataset_len = 0\n",
        "        ################# Your Implementations #################################\n",
        "        # Return the number of images in the dataset\n",
        "\n",
        "        ################# End of your Implementations ##########################\n",
        "        return dataset_len\n",
        "\n",
        "    def __getitem__(self, idx):\n",
        "        \"\"\"\n",
        "        Return a single image and its corresponding label when given an index.\n",
        "\n",
        "        Args:\n",
        "            idx (int): Index of the image to retrieve.\n",
        "\n",
        "        Returns:\n",
        "            tuple: Tuple containing the image and its label.\n",
        "        \"\"\"\n",
        "        ################# Your Implementations #################################\n",
        "        # Load and preprocess image using self.root_dir,\n",
        "        # self.filenames[idx], and self.transform (if specified)\n",
        "\n",
        "        ################# End of your Implementations ##########################\n",
        "        return image, label\n",
        "\n",
        "\n",
        "data_root = os.path.join(root_dir, 'data')\n",
        "# Create MiniPlaces dataset object\n",
        "miniplaces_train = MiniPlaces(data_root,\n",
        "                              split='train',\n",
        "                              transform=data_transform)\n",
        "\n",
        "miniplaces_val = MiniPlaces(data_root,\n",
        "                            split='val',\n",
        "                            transform=data_transform,\n",
        "                            label_dict=miniplaces_train.label_dict)\n",
        "\n",
        "# Create the dataloaders\n",
        "# Define the batch size and number of workers\n",
        "batch_size = 64\n",
        "num_workers = 2\n",
        "\n",
        "# Create DataLoader for training and validation sets\n",
        "train_loader = DataLoader(miniplaces_train,\n",
        "                          batch_size=batch_size,\n",
        "                          num_workers=num_workers,\n",
        "                          shuffle=True)\n",
        "val_loader = DataLoader(miniplaces_val,\n",
        "                        batch_size=batch_size,\n",
        "                        num_workers=num_workers,\n",
        "                        shuffle=False)"
      ]
    },
    {
      "cell_type": "markdown",
      "metadata": {
        "id": "BoCJsCu4iSzw"
      },
      "source": [
        "\n",
        "Then, define the training and evaluation functions to train and test the CNN (Same as Assignment 1, You don't need to modify this part):"
      ]
    },
    {
      "cell_type": "code",
      "execution_count": null,
      "metadata": {
        "id": "q-SQeJmdiSzw"
      },
      "outputs": [],
      "source": [
        "def train(model, train_loader, val_loader, optimizer, criterion, device,\n",
        "          num_epochs):\n",
        "    \"\"\"\n",
        "    Train the MLP classifier on the training set and evaluate it on the validation set every epoch.\n",
        "\n",
        "    Args:\n",
        "        model (MLP): MLP classifier to train.\n",
        "        train_loader (torch.utils.data.DataLoader): Data loader for the training set.\n",
        "        val_loader (torch.utils.data.DataLoader): Data loader for the validation set.\n",
        "        optimizer (torch.optim.Optimizer): Optimizer to use for training.\n",
        "        criterion (callable): Loss function to use for training.\n",
        "        device (torch.device): Device to use for training.\n",
        "        num_epochs (int): Number of epochs to train the model.\n",
        "    \"\"\"\n",
        "    # Place model on device\n",
        "    model = model.to(device)\n",
        "\n",
        "    for epoch in range(num_epochs):\n",
        "        model.train()  # Set model to training mode\n",
        "\n",
        "        # Use tqdm to display a progress bar during training\n",
        "        with tqdm(total=len(train_loader),\n",
        "                  desc=f'Epoch {epoch + 1}/{num_epochs}',\n",
        "                  position=0,\n",
        "                  leave=True) as pbar:\n",
        "            for inputs, labels in train_loader:\n",
        "                # Move inputs and labels to device\n",
        "                inputs = inputs.to(device)\n",
        "                labels = labels.to(device)\n",
        "\n",
        "                # Zero out gradients\n",
        "                optimizer.zero_grad()\n",
        "\n",
        "                # Compute the logits and loss\n",
        "                logits = model(inputs)\n",
        "                loss = criterion(logits, labels)\n",
        "\n",
        "                # Backpropagate the loss\n",
        "                loss.backward()\n",
        "\n",
        "                # Update the weights\n",
        "                optimizer.step()\n",
        "\n",
        "                # Update the progress bar\n",
        "                pbar.update(1)\n",
        "                pbar.set_postfix(loss=loss.item())\n",
        "\n",
        "        # Evaluate the model on the validation set\n",
        "        avg_loss, accuracy = evaluate(model, val_loader, criterion, device)\n",
        "        print(\n",
        "            f'Validation set: Average loss = {avg_loss:.4f}, Accuracy = {accuracy:.4f}'\n",
        "        )\n",
        "\n",
        "\n",
        "def evaluate(model, test_loader, criterion, device):\n",
        "    \"\"\"\n",
        "    Evaluate the MLP classifier on the test set.\n",
        "\n",
        "    Args:\n",
        "        model (MLP): MLP classifier to evaluate.\n",
        "        test_loader (torch.utils.data.DataLoader): Data loader for the test set.\n",
        "        criterion (callable): Loss function to use for evaluation.\n",
        "        device (torch.device): Device to use for evaluation.\n",
        "\n",
        "    Returns:\n",
        "        float: Average loss on the test set.\n",
        "        float: Accuracy on the test set.\n",
        "    \"\"\"\n",
        "    model.eval()  # Set model to evaluation mode\n",
        "\n",
        "    with torch.no_grad():\n",
        "        total_loss = 0.0\n",
        "        num_correct = 0\n",
        "        num_samples = 0\n",
        "\n",
        "        for inputs, labels in test_loader:\n",
        "            # Move inputs and labels to device\n",
        "            inputs = inputs.to(device)\n",
        "            labels = labels.to(device)\n",
        "\n",
        "            # Compute the logits and loss\n",
        "            logits = model(inputs)\n",
        "            loss = criterion(logits, labels)\n",
        "            total_loss += loss.item()\n",
        "\n",
        "            # Compute the accuracy\n",
        "            _, predictions = torch.max(logits, dim=1)\n",
        "            num_correct += (predictions == labels).sum().item()\n",
        "            num_samples += len(inputs)\n",
        "\n",
        "    # Compute the average loss and accuracy\n",
        "    avg_loss = total_loss / len(test_loader)\n",
        "    accuracy = num_correct / num_samples\n",
        "\n",
        "    return avg_loss, accuracy"
      ]
    },
    {
      "cell_type": "markdown",
      "metadata": {
        "id": "8vmih-pfj-yp"
      },
      "source": [
        "Let's setting up the device, Assignment 2 involves much more computaton than Assignment 1, and hence using a GPU is preferred"
      ]
    },
    {
      "cell_type": "code",
      "execution_count": null,
      "metadata": {
        "colab": {
          "base_uri": "https://localhost:8080/"
        },
        "id": "HE2Hg8wFC0Yh",
        "outputId": "ccedefb2-4213-42d2-a41b-9544e6997f77"
      },
      "outputs": [],
      "source": [
        "import torch\n",
        "import torch.nn.functional as F\n",
        "\n",
        "# Define the device to use for training\n",
        "device = torch.device('cuda' if torch.cuda.is_available() else 'cpu')\n",
        "if torch.cuda.is_available():\n",
        "    print('Good to go!')\n",
        "else:\n",
        "    print('Please set GPU via Edit -> Notebook Settings.')"
      ]
    },
    {
      "cell_type": "code",
      "execution_count": null,
      "metadata": {
        "colab": {
          "base_uri": "https://localhost:8080/"
        },
        "id": "A2sV9w1q3Pek",
        "outputId": "15da4ae5-7943-42fe-8917-8b369d51ba21"
      },
      "outputs": [],
      "source": [
        "# This line of code gives you the information about GPU\n",
        "! nvidia-smi"
      ]
    },
    {
      "cell_type": "markdown",
      "metadata": {
        "id": "_Z81jog_JhVg"
      },
      "source": [
        "## Q1: Convolutional Neural Network (CNN) (30 pts)\n",
        "\n",
        "In this question, you will learn how to implement convolutional neural networks (CNNs) using PyTorch.\n",
        "\n",
        "Similarly as Q2, we will first build a two-layer convolutional neural networks using PyTorch built-in function `nn.Conv2D` and then build the convolution operation from scratch."
      ]
    },
    {
      "cell_type": "markdown",
      "metadata": {
        "id": "WmbxqOLytza_"
      },
      "source": [
        "### Q1.1 Fast Conv (10 pts)"
      ]
    },
    {
      "cell_type": "markdown",
      "metadata": {
        "id": "pup-UWEbiSzx"
      },
      "source": [
        "Fill in the code below to implement a simple CNN similar to the MLP we built in A1, we can use built-in PyTorch Operations (e.g `nn.conv2d`) to build the network."
      ]
    },
    {
      "cell_type": "code",
      "execution_count": null,
      "metadata": {
        "id": "XSck1VsjukiW"
      },
      "outputs": [],
      "source": [
        "import torch\n",
        "import torch.nn as nn\n",
        "import torch.nn.functional as F\n",
        "\n",
        "\n",
        "class FastConv(nn.Module):\n",
        "\n",
        "    def __init__(self,\n",
        "                 input_channels,\n",
        "                 conv_hidden_channels,\n",
        "                 conv_out_channels,\n",
        "                 input_size=(64, 64),\n",
        "                 dropout_rate1=0.25,\n",
        "                 dropout_rate2=0.5,\n",
        "                 fc_out_channels=128,\n",
        "                 num_classes=100,\n",
        "                 kernel_size=3,\n",
        "                 stride=2,\n",
        "                 padding=1):\n",
        "        \"\"\"\n",
        "        Args:\n",
        "          input_channels (int): Number of channels in the input image.\n",
        "          conv_hidden_channels (int): Number of channels in the first convolutional layer.\n",
        "          conv_out_channels (int): Number of channels in the second convolutional layer.\n",
        "          input_size (tuple, optional): Height and width of the input image. (default: (64,64))\n",
        "          dropout_rate1, dropout_rate2 (float, optional): Dropout rate for\n",
        "              the first/second dropout layer. (default: 0.25, 0.5)\n",
        "          fc_out_channels (int, optional): Number of neurons in the first fully\n",
        "              connected layer. (default: 128)\n",
        "          num_classes (int, optional): Number of classes in the final output layer. (default: 100)\n",
        "          kernel_size, stride, padding (int, optional): Parameters of convolutional layers.\n",
        "\n",
        "        Initialize a convolutional neural network.\n",
        "        You can use Pytorch's built-in functions like, nn.Conv2d, nn.MaxPool2d, etc.\n",
        "        Input and output shapes of each layer:\n",
        "        1) conv1: (batch_size, input_channels, H, W) -> (batch_size, conv_hidden_channels, H//2, W//2)\n",
        "        2) conv2: (batch_size, conv_hidden_channels, H//2, W//2) -> (batch_size, conv_out_channels, H//4, W//4)\n",
        "        3) max_pooling: (batch_size, conv_hidden_channels, H//4, W//4) -> (batch_size, conv_out_channels, H//8, W//8)\n",
        "        4) fc1: (batch_size, flatten_size) -> (batch_size, fc_out_channels)\n",
        "        5) fc2: (batch_size, fc_out_channels) -> (batch_size, num_classes)\n",
        "        \"\"\"\n",
        "        super().__init__()\n",
        "\n",
        "        self.conv1 = None\n",
        "        self.conv2 = None\n",
        "        self.max_pooling = None\n",
        "        self.dropout1 = None\n",
        "        self.dropout2 = None\n",
        "        self.fc1 = None\n",
        "        self.fc2 = None\n",
        "        ################# Your Implementations #################################\n",
        "        # TODO: Define the layers of the convolutional neural network\n",
        "        # replace \"None\"s with your implementations.\n",
        "        # All you need to do is to pass the input arguments to different constructors\n",
        "\n",
        "        ################# End of your Implementations ##########################\n",
        "\n",
        "    def forward(self, x, return_intermediate=False):\n",
        "        \"\"\"\n",
        "        Forward pass of the convolutional neural network.\n",
        "        The input tensor 'x' should pass through the following layers:\n",
        "        1) conv1: (batch_size, input_channels, H, W) -> (batch_size, conv_hidden_channels, H//2, W//2)\n",
        "        2) Apply relu.\n",
        "        3) conv2: (batch_size, conv_hidden_channels, H//2, W//2) -> (batch_size, conv_out_channels, H//4, W//4)\n",
        "        4) max_pooling: Perform 2*2 max pooling with stride 2 on the output from conv2\n",
        "        5) dropout1: Perform dropout2d on the output from max_pooling\n",
        "        6) Flatten the output from dropout1\n",
        "        7) fc1: Pass through a fully connected layer\n",
        "        8) dropout2: Perform dropout on the output from fc1\n",
        "        9) Apply relu.\n",
        "        7) fc2: Pass the output from the actiction layer to through a fully connected\n",
        "                layer to produce the final output\n",
        "        \"\"\"\n",
        "        ################# Your Implementations #################################\n",
        "        # TODO: Implement the forward pass of the convolutional neural network\n",
        "\n",
        "        ################# End of your Implementations ##########################\n",
        "        return x"
      ]
    },
    {
      "cell_type": "code",
      "execution_count": null,
      "metadata": {
        "colab": {
          "base_uri": "https://localhost:8080/"
        },
        "id": "MafiXWN0EdYv",
        "outputId": "99660be7-fb0a-466b-fbfa-61ebde15c9a3"
      },
      "outputs": [],
      "source": [
        "seed_everything(0)\n",
        "\n",
        "# Define the model, optimizer, and criterion (loss_fn)\n",
        "model = FastConv(input_channels=3,\n",
        "                 conv_hidden_channels=64,\n",
        "                 conv_out_channels=128,\n",
        "                 input_size=(128, 128),\n",
        "                 dropout_rate1=0.25,\n",
        "                 dropout_rate2=0.5,\n",
        "                 fc_out_channels=128,\n",
        "                 kernel_size=3,\n",
        "                 stride=2,\n",
        "                 padding=1,\n",
        "                 num_classes=len(miniplaces_train.label_dict))\n",
        "\n",
        "# Let's use the built-in optimizer for a full version of SGD optimizer\n",
        "optimizer = torch.optim.SGD(model.parameters(), lr=0.01, momentum=0.9)\n",
        "\n",
        "# For loss function, your implementation and the built-in loss function should\n",
        "# be almost identical.\n",
        "criterion = nn.CrossEntropyLoss()\n",
        "\n",
        "# Train the model\n",
        "train(model,\n",
        "      train_loader,\n",
        "      val_loader,\n",
        "      optimizer,\n",
        "      criterion,\n",
        "      device,\n",
        "      num_epochs=5)"
      ]
    },
    {
      "cell_type": "markdown",
      "metadata": {
        "id": "4z69YoNYJ0zq"
      },
      "source": [
        "You should get around 14.93% accuracy after the first epoch and 18.27% accuracy after five epochs, which is a huge improvement from using MLPs."
      ]
    },
    {
      "cell_type": "markdown",
      "metadata": {
        "id": "gCK1g8RAMp-4"
      },
      "source": [
        "### Q1.2 Building 2D Convolutional layer from sratch (20pts)\n",
        "\n",
        "Next, we will build convolutional neural networks from scratch.\n",
        "\n",
        "\n",
        "Let's ignore channels for now and see how this works with two-dimensional data had hidden representations. In the following figure, the input is a two-dimensional tensor with hegith of 3 and width of 3. We mark the shape of the tensor as $3\\times3$. The height and width of the kernel are both 2. The shape of the kernel window (or convolution window) is given by the height and width of the kernel (here it is $2\\times2$).\n",
        "\n",
        "![correlation](https://web.cs.ucla.edu/~smo3/cs188/assignment2/correlation.png)\n",
        "\n",
        "\n",
        "In the two-dimensional convolution operation, we begin with the convolution window position at the upper-left corner of the input tensor and slide it across the intput tensor, both from left to right and top to bottom. When the convolution window slides to a certain position, the input subtensor contained in that window and the kernel tensor are multiplied elementwise and the resulting tensor is summed up yielding a single scalar value. This result gives the value of the output tensor at the corresponding location. Here, the output tensor has a height of 2 and width of 2 and the four elements are derived from the two-dimensional cross-correlation operation:\n",
        "$$\n",
        "0\\times0+1\\times1+3\\times2+4\\times3=19,\\\\\n",
        "1\\times0+2\\times1+4\\times2+5\\times3=25,\\\\\n",
        "3\\times0+4\\times1+6\\times2+7\\times3=37,\\\\\n",
        "4\\times0+5\\times1+7\\times2+8\\times3=43.\n",
        "$$\n",
        "\n",
        "Note that along each axis, the output size\n",
        "is slightly smaller than the input size.\n",
        "Because the kernel has width and height greater than one,\n",
        "we can only properly compute the cross-correlation\n",
        "for locations where the kernel fits wholly within the image,\n",
        "the output size is given by the input size $n_h \\times n_w$\n",
        "minus the size of the convolution kernel $k_h \\times k_w$\n",
        "via\n",
        "\n",
        "$$(n_h-k_h+1) \\times (n_w-k_w+1).$$\n",
        "\n",
        "This is the case since we need enough space\n",
        "to \"shift\" the convolution kernel across the image."
      ]
    },
    {
      "cell_type": "markdown",
      "metadata": {
        "id": "gnTt09Ozf-IK"
      },
      "source": [
        "#### Q1.2.1 One Channel Convolution (5pts)\n",
        "That's start with 2D convolution with only 1 input channel and 1 kernel.\n",
        "If your implementation is right, you'll get:\n",
        "```\n",
        "tensor([[19., 25.],\n",
        "        [37., 43.]])\n",
        "```"
      ]
    },
    {
      "cell_type": "code",
      "execution_count": null,
      "metadata": {
        "id": "AVtnL-dfgBbJ"
      },
      "outputs": [],
      "source": [
        "def conv2d(X, K):\n",
        "    \"\"\"\n",
        "    Compute 2D convolution. You are supposed to use matrix multiplication\n",
        "    to achieve the 2D convolution instead of torch build in convolution method.\n",
        "\n",
        "        Args:\n",
        "          X (tensor): Input tensor in the shape of (n_h,n_w).\n",
        "          K (tensor): Kernel tensor in the shape of (k_h,k_w).\n",
        "\n",
        "        Return:\n",
        "          Y (tensor): Output tensor in the shape of (H,W).\n",
        "\n",
        "    \"\"\"\n",
        "    Y = None\n",
        "    ################# Your Implementations #####################################\n",
        "    # Hint: Using two for loops\n",
        "\n",
        "    ################# End of your Implementations ##############################\n",
        "    return Y"
      ]
    },
    {
      "cell_type": "code",
      "execution_count": null,
      "metadata": {
        "id": "T67P1_UQgDBp"
      },
      "outputs": [],
      "source": [
        "# Try to debug using this code segment:\n",
        "X = torch.tensor([[0.0, 1.0, 2.0], [3.0, 4.0, 5.0], [6.0, 7.0, 8.0]])\n",
        "K = torch.tensor([[0.0, 1.0], [2.0, 3.0]])\n",
        "conv2d(X, K)"
      ]
    },
    {
      "cell_type": "markdown",
      "metadata": {
        "id": "01ljXhZ2L5md"
      },
      "source": [
        "#### Q1.2.2  One Channel Convolution with Padding and Stride (5pts)"
      ]
    },
    {
      "cell_type": "markdown",
      "metadata": {
        "id": "0HFbIjkOgEl8"
      },
      "source": [
        "Since we typically use small kernels,\n",
        "for any given convolution,\n",
        "we might only lose a few pixels,\n",
        "but this can add up as we apply\n",
        "many successive convolutional layers.\n",
        "One straightforward solution to this problem\n",
        "is to add extra pixels of filler around the boundary of our input image,\n",
        "thus increasing the effective size of the image.\n",
        "Typically, we set the values of the extra pixels to zero.\n",
        "In the following image, we pad a $3 \\times 3$ input,\n",
        "increasing its size to $5 \\times 5$.\n",
        "The corresponding output then increases to a $4 \\times 4$ matrix.\n",
        "The shaded portions are the first output element as well as the input and kernel tensor elements used for the output computation: $0\\times0+0\\times1+0\\times2+0\\times3=0$.\n",
        "\n",
        "![Two-dimensional cross-correlation with padding.](https://web.cs.ucla.edu/~smo3/cs188/assignment2/conv-pad.png)\n",
        "\n",
        "In general, if we add a total of $p_h$ rows of padding\n",
        "(roughly half on top and half on bottom)\n",
        "and a total of $p_w$ columns of padding\n",
        "(roughly half on the left and half on the right),\n",
        "the output shape will be\n",
        "\n",
        "$$(n_h-k_h+p_h+1)\\times(n_w-k_w+p_w+1).$$\n",
        "\n",
        "This means that the height and width of the output\n",
        "will increase by $p_h$ and $p_w$, respectively.\n",
        "\n",
        "In many cases, we will want to set $p_h=k_h-1$ and $p_w=k_w-1$\n",
        "to give the input and output the same height and width.\n",
        "This will make it easier to predict the output shape of each layer\n",
        "when constructing the network."
      ]
    },
    {
      "cell_type": "markdown",
      "metadata": {
        "id": "M1Em6cbWgLHW"
      },
      "source": [
        "When computing the cross-correlation,\n",
        "we start with the convolution window\n",
        "at the upper-left corner of the input tensor,\n",
        "and then slide it over all locations both down and to the right.\n",
        "In the previous examples, we defaulted to sliding one element at a time.\n",
        "However, sometimes, either for computational efficiency\n",
        "or because we wish to downsample,\n",
        "we move our window more than one element at a time,\n",
        "skipping the intermediate locations. This is particularly useful if the convolution\n",
        "kernel is large since it captures a large area of the underlying image.\n",
        "\n",
        "We refer to the number of rows and columns traversed per slide as *stride*.\n",
        "So far, we have used strides of 1, both for height and width.\n",
        "Sometimes, we may want to use a larger stride.\n",
        "The following image shows a two-dimensional cross-correlation operation\n",
        "with a stride of 3 vertically and 2 horizontally.\n",
        "The shaded portions are the output elements as well as the input and kernel tensor elements used for the output computation: $0\\times0+0\\times1+1\\times2+2\\times3=8$, $0\\times0+6\\times1+0\\times2+0\\times3=6$.\n",
        "We can see that when the second element of the first column is generated,\n",
        "the convolution window slides down three rows.\n",
        "The convolution window slides two columns to the right\n",
        "when the second element of the first row is generated.\n",
        "When the convolution window continues to slide two columns to the right on the input,\n",
        "there is no output because the input element cannot fill the window\n",
        "(unless we add another column of padding).\n",
        "\n",
        "![Cross-correlation with strides of 3 and 2 for height and width, respectively.](https://web.cs.ucla.edu/~smo3/cs188/assignment2/conv-stride.png)\n",
        "\n",
        "In general, when the stride for the height is $s_h$\n",
        "and the stride for the width is $s_w$, the output shape is\n",
        "\n",
        "$$\\lfloor(n_h-k_h+p_h+s_h)/s_h\\rfloor \\times \\lfloor(n_w-k_w+p_w+s_w)/s_w\\rfloor.$$\n"
      ]
    },
    {
      "cell_type": "markdown",
      "metadata": {
        "id": "-uqxaRJ_gNXf"
      },
      "source": [
        "\n",
        "In the next cell, you will need to add padding and stride to the conv2d function.\n",
        "\n",
        "If your implementation is right, the correct output is\n",
        "```\n",
        "tensor([[19., 31.],\n",
        "        [50., 62.]])\n",
        "```"
      ]
    },
    {
      "cell_type": "code",
      "execution_count": null,
      "metadata": {
        "id": "bW8tgO4fgO82"
      },
      "outputs": [],
      "source": [
        "def conv2d_padding_stride(X, K, padding=0, stride=0):\n",
        "    \"\"\"Compute 2D convolution with stride. Here the stride applied both\n",
        "       horizontally and vertically.\n",
        "\n",
        "        Args:\n",
        "          X (tensor): Input tensor in the shape of (n_h,n_w).\n",
        "          K (tensor): Kernel tensor in the shape of (k_h,k_w).\n",
        "          padding (int): padding in both dimensions (p_h, p_w).\n",
        "          stride (int): Stride in both dimensions (s_h, s_w).\n",
        "\n",
        "        Return:\n",
        "          Y (tensor): Output tensor in the shape of (H,W)\n",
        "    \"\"\"\n",
        "    Y = None\n",
        "    ################# Your Implementations #####################################\n",
        "\n",
        "    ################# End of your Implementations ##############################\n",
        "    return Y"
      ]
    },
    {
      "cell_type": "code",
      "execution_count": null,
      "metadata": {
        "id": "AYNxh7U1gRAh"
      },
      "outputs": [],
      "source": [
        "# Try to debug using this code segment:\n",
        "X = torch.tensor([[0.0, 1.0, 2.0, 3.0], [3.0, 4.0, 5.0, 6.0],\n",
        "                  [6.0, 7.0, 8.0, 9.0], [8.0, 9.0, 10.0, 11.0]])\n",
        "K = torch.tensor([[0.0, 1.0], [2.0, 3.0]])\n",
        "conv2d_padding_stride(X, K, padding=0, stride=2)"
      ]
    },
    {
      "cell_type": "markdown",
      "metadata": {
        "id": "WGsrB1OsgSsI"
      },
      "source": [
        "#### Q1.2.3 Multiple Channels 2D Convlution (5pts)\n",
        "When the input data contains multiple channels,\n",
        "we need to construct a convolution kernel\n",
        "with the same number of input channels as the input data,\n",
        "so that it can perform cross-correlation with the input data.\n",
        "Assuming that the number of channels for the input data is $c_i$,\n",
        "the number of input channels of the convolution kernel also needs to be $c_i$. If our convolution kernel's window shape is $k_h\\times k_w$,\n",
        "then when $c_i=1$, we can think of our convolution kernel\n",
        "as just a two-dimensional tensor of shape $k_h\\times k_w$.\n",
        "\n",
        "However, when $c_i>1$, we need a kernel\n",
        "that contains a tensor of shape $k_h\\times k_w$ for *every* input channel. Concatenating these $c_i$ tensors together\n",
        "yields a convolution kernel of shape $c_i\\times k_h\\times k_w$.\n",
        "Since the input and convolution kernel each have $c_i$ channels,\n",
        "we can perform a cross-correlation operation\n",
        "on the two-dimensional tensor of the input\n",
        "and the two-dimensional tensor of the convolution kernel\n",
        "for each channel, adding the $c_i$ results together\n",
        "(summing over the channels)\n",
        "to yield a two-dimensional tensor.\n",
        "This is the result of a two-dimensional cross-correlation\n",
        "between a multi-channel input and\n",
        "a multi-input-channel convolution kernel.\n",
        "\n",
        "The following image provides an example\n",
        "of a two-dimensional cross-correlation with two input channels.\n",
        "The shaded portions are the first output element\n",
        "as well as the input and kernel tensor elements used for the output computation:\n",
        "$(1\\times1+2\\times2+4\\times3+5\\times4)+(0\\times0+1\\times1+3\\times2+4\\times3)=56$.\n",
        "\n",
        "![Cross-correlation computation with 2 input channels.](https://web.cs.ucla.edu/~smo3/cs188/assignment2/conv-multi-in.png)\n",
        "\n",
        "\n",
        "To make sure we really understand what is going on here,\n",
        "we can (**implement cross-correlation operations with multiple input channels**) ourselves.\n",
        "Notice that all we are doing is performing a cross-correlation operation\n",
        "per channel and then adding up the results."
      ]
    },
    {
      "cell_type": "markdown",
      "metadata": {
        "id": "nhGufyi1gUi7"
      },
      "source": [
        "Then, we'll consider the cases where there are multiple input channels. If your implementation is right, the correct output is\n",
        "\n",
        "\n",
        "```\n",
        "tensor([[  4.,  26.,  18.],\n",
        "        [ 57., 120.,  55.],\n",
        "        [ 29.,  46.,  13.]])\n",
        "```\n",
        "\n"
      ]
    },
    {
      "cell_type": "code",
      "execution_count": null,
      "metadata": {
        "id": "0s0AcVzZgV13"
      },
      "outputs": [],
      "source": [
        "def conv2d_multi_in(X, K, padding=0, stride=0) -> torch.tensor:\n",
        "    \"\"\"Compute 2D cross-correlation with multiple input channels.\n",
        "        Here, X and K should have the same chanel number\n",
        "\n",
        "        Args:\n",
        "          X (tensor): Input tensor in the shape of (in_Channels,n_h,n_w).\n",
        "          K (tensor): Kernel tensor (in_Channels,k_h,k_w)\n",
        "          padding (int): padding in H,W dimensions (p_h, p_w).\n",
        "          stride (int): Stride in H,W dimensions (s_h, s_w).\n",
        "\n",
        "        Return:\n",
        "          Y (tensor): Output tensor in the shape of (H,W)\n",
        "\n",
        "    \"\"\"\n",
        "    # Hint： Iterate through the 0th dimension (channel) of K first, then stack them up, then take the sum\n",
        "    Y = None\n",
        "    ################# Your Implementations #####################################\n",
        "\n",
        "    ################# End of your Implementations ##############################\n",
        "    return Y"
      ]
    },
    {
      "cell_type": "code",
      "execution_count": null,
      "metadata": {
        "id": "XTR9cZMdgXY4"
      },
      "outputs": [],
      "source": [
        "# Try to debug using this code segment:\n",
        "X = torch.tensor([[[0.0, 1.0, 2.0, 3.0], [3.0, 4.0, 5.0, 6.0],\n",
        "                   [6.0, 7.0, 8.0, 9.0], [9.0, 10.0, 11.0, 12.0]],\n",
        "                  [[1.0, 2.0, 3.0, 4.0], [4.0, 5.0, 6.0, 7.0],\n",
        "                   [7.0, 8.0, 9.0, 10.0], [10.0, 11.0, 12.0, 13.0]]])\n",
        "K = torch.tensor([[[0.0, 1.0], [2.0, 3.0]], [[1.0, 2.0], [3.0, 4.0]]])\n",
        "\n",
        "out = conv2d_multi_in(X, K, padding=1, stride=2)\n",
        "out"
      ]
    },
    {
      "cell_type": "code",
      "execution_count": null,
      "metadata": {
        "id": "3hnalmQogZS0"
      },
      "outputs": [],
      "source": [
        "# Compare our method with torch build-in method\n",
        "X = (torch.rand(2, 10, 10)).to(torch.float32)\n",
        "K = (torch.rand(2, 3, 3)).to(torch.float32)\n",
        "for i in [1, 2, 3, 4, 5]:\n",
        "    for j in [1, 2, 3, 4, 5]:\n",
        "        out = conv2d_multi_in(X, K, padding=i, stride=j)\n",
        "        answer = F.conv2d(X.unsqueeze(0), K.unsqueeze(0), stride=j,\n",
        "                          padding=i).squeeze(0).squeeze(0)\n",
        "        equal = torch.allclose(out, answer)\n",
        "\n",
        "        if equal:\n",
        "            print('Good! For padding: %d and stride: %d, the output match' %\n",
        "                  (i, j))\n",
        "        else:\n",
        "            print('Uh-oh! The output are different')\n",
        "            break"
      ]
    },
    {
      "cell_type": "markdown",
      "metadata": {
        "id": "QwUiM5pMgcZX"
      },
      "source": [
        "Then, we'll consider the cases where there are multiple input channels and multiple output channels. We will be also adding a bias tensor $B$ on each output channel. Notice the input tensor X has a batch demension."
      ]
    },
    {
      "cell_type": "code",
      "execution_count": null,
      "metadata": {
        "id": "TRPHXLyoga04"
      },
      "outputs": [],
      "source": [
        "def batched_conv2d_multi_in_out(X, K, B, padding=0, stride=0) -> torch.tensor:\n",
        "    \"\"\"Compute 2D cross-correlation with multiple input channels and multiple\n",
        "        output channels.\n",
        "\n",
        "        Args:\n",
        "          X (tensor): Input tensor in the shape of (batch_size,in_channels,n_h,n_w).\n",
        "          K (tensor): Kernel tensor (out_channels,in_channels,k_h,k_w).\n",
        "          B (tensor): Bias tensor (out_channels)\n",
        "          padding (int): padding in H,W dimensions (p_h, p_w).\n",
        "          stride (int): Stride in H,W dimensions (s_h, s_w).\n",
        "\n",
        "        Return:\n",
        "          Y (tensor): Output tensor in the shape of (batch_size,out_channels,H,W)\n",
        "\n",
        "    \"\"\"\n",
        "    # Hint: Loop though the batch dimension and then loop though the out_channel\n",
        "    #       dimension\n",
        "    Y = None\n",
        "    ################# Your Implementations #####################################\n",
        "\n",
        "    ################# End of your Implementations ##############################\n",
        "    return Y"
      ]
    },
    {
      "cell_type": "code",
      "execution_count": null,
      "metadata": {
        "id": "qbGauSqQgfMu"
      },
      "outputs": [],
      "source": [
        "# Compare our method with torch build-in method\n",
        "X = (torch.rand(2, 2, 10, 10)).to(torch.float32)\n",
        "K = (torch.rand(2, 2, 3, 3)).to(torch.float32)\n",
        "B = (torch.rand(2)).to(torch.float32)\n",
        "for i in [1, 2, 3, 4, 5]:\n",
        "    for j in [1, 2, 3, 4, 5]:\n",
        "        out = batched_conv2d_multi_in_out(X, K, B, padding=i, stride=j)\n",
        "        answer = F.conv2d(X, K, B, stride=j, padding=i)\n",
        "        equal = torch.allclose(out, answer)\n",
        "\n",
        "        if equal:\n",
        "            print('Good! For padding: %d and stride: %d, the output match' %\n",
        "                  (i, j))\n",
        "        else:\n",
        "            print('Uh-oh! The output are different')\n",
        "            break"
      ]
    },
    {
      "cell_type": "markdown",
      "metadata": {
        "id": "1AObjeBwF7go"
      },
      "source": [
        "#### Q1.2.4 Try your own implementation (5pts)\n",
        "\n",
        "In the next task, you will implement your own 2D convolution neural network with the custom convolution operator you just wrote.\n",
        "\n",
        "This task should be relatively straightforward. Just to pay attention to shape of the weights and biases of the convolution."
      ]
    },
    {
      "cell_type": "code",
      "execution_count": null,
      "metadata": {
        "id": "aRkva8qgGKm_"
      },
      "outputs": [],
      "source": [
        "import torch\n",
        "import torch.nn as nn\n",
        "import torch.nn.functional as F\n",
        "\n",
        "\n",
        "class CustomConv2d(torch.nn.Module):\n",
        "\n",
        "    def __init__(self,\n",
        "                 in_channels,\n",
        "                 out_channels,\n",
        "                 kernel_size,\n",
        "                 stride=1,\n",
        "                 padding=0):\n",
        "        super(CustomConv2d, self).__init__()\n",
        "        # Initialize weights using random initialization with 0.01 std\n",
        "        # Initialize bias using zero initialization\n",
        "        # Save the stride and padding info\n",
        "        ################# Your Implementations #################################\n",
        "\n",
        "        ################# End of your Implementations ##########################\n",
        "\n",
        "    def forward(self, x):\n",
        "        # call your implemented function batched_conv2d_multi_in_out/or F.conv2d here\n",
        "        ################# Your Implementations #################################\n",
        "      \n",
        "        ################# End of your Implementations ##########################\n",
        "\n",
        "\n",
        "class CustomConv(nn.Module):\n",
        "\n",
        "    def __init__(self,\n",
        "                 input_channels,\n",
        "                 conv_hidden_channels,\n",
        "                 conv_out_channels,\n",
        "                 input_size=(64, 64),\n",
        "                 dropout_rate1=0.25,\n",
        "                 dropout_rate2=0.5,\n",
        "                 fc_out_channels=128,\n",
        "                 num_classes=100,\n",
        "                 kernel_size=3,\n",
        "                 stride=2,\n",
        "                 padding=1):\n",
        "        \"\"\"\n",
        "        Args:\n",
        "          input_channels (int): Number of channels in the input image.\n",
        "          conv_hidden_channels (int): Number of channels in the first convolutional layer.\n",
        "          conv_out_channels (int): Number of channels in the second convolutional layer.\n",
        "          input_size (tuple, optional): Height and width of the input image. (default: (64,64))\n",
        "          dropout_rate1, dropout_rate2 (float, optional): Dropout rate for\n",
        "              the first/second dropout layer. (default: 0.25, 0.5)\n",
        "          fc_out_channels (int, optional): Number of neurons in the first fully\n",
        "              connected layer. (default: 128)\n",
        "          num_classes (int, optional): Number of classes in the final output layer. (default: 100)\n",
        "          kernel_size, stride, padding (int, optional): Parameters of convolutional layers.\n",
        "\n",
        "        Initialize a convolutional neural network.\n",
        "        You should use your own convolution operator CustomConv2d.\n",
        "        Input and output shapes of each layer:\n",
        "        1) conv1: (batch_size, input_channels, H, W) -> (batch_size, conv_hidden_channels, H//2, W//2)\n",
        "        2) conv2: (batch_size, conv_hidden_channels, H//2, W//2) -> (batch_size, conv_out_channels, H//4, W//4)\n",
        "        3) max_pooling: (batch_size, conv_out_channels, H//4, W//4) -> (batch_size, conv_out_channels, H//8, W//8)\n",
        "        4) fc1: (batch_size, flatten_size) -> (batch_size, fc_out_channels)\n",
        "        5) fc2: (batch_size, fc_out_channels) -> (batch_size, num_classes)\n",
        "        \"\"\"\n",
        "        super().__init__()\n",
        "\n",
        "        self.conv1 = None\n",
        "        self.conv2 = None\n",
        "        self.max_pooling = None\n",
        "        self.dropout1 = None\n",
        "        self.dropout2 = None\n",
        "        self.fc1 = None\n",
        "        self.fc2 = None\n",
        "        ################# Your Implementations #################################\n",
        "        # TODO: Define the layers of the convolutional neural network\n",
        "        # All you need to do is to replace your previous implementatin with CustomConv2d\n",
        "        \n",
        "\n",
        "        ################# End of your Implementations ##########################\n",
        "\n",
        "    def forward(self, x, return_intermediate=False):\n",
        "        \"\"\"\n",
        "        Forward pass of the convolutional neural network.\n",
        "        The input tensor 'x' should pass through the following layers:\n",
        "        1) conv1: (batch_size, input_channels, H, W) -> (batch_size, conv_hidden_channels, H//2, W//2)\n",
        "        2) Apply relu.\n",
        "        3) conv2: (batch_size, conv_hidden_channels, H//2, W//2) -> (batch_size, conv_out_channels, H//4, W//4)\n",
        "        4) max_pooling: Perform 2*2 max pooling with stride 2 on the output from conv2\n",
        "        5) dropout1: Perform dropout2d on the output from max_pooling\n",
        "        6) Flatten the output from dropout1\n",
        "        7) fc1: Pass through a fully connected layer\n",
        "        8) dropout2: Perform dropout on the output from fc1\n",
        "        9) Apply relu.\n",
        "        7) fc2: Pass the output from the actiction layer to through a fully connected\n",
        "                layer to produce the final output\n",
        "        \"\"\"\n",
        "        ################# Your Implementations #################################\n",
        "        # TODO: Implement the forward pass of the convolutional neural network\n",
        "        \n",
        "\n",
        "        ################# End of your Implementations ##########################\n",
        "        return x"
      ]
    },
    {
      "cell_type": "markdown",
      "metadata": {
        "id": "eUAhr4d0XZIC"
      },
      "source": [
        "You may notice that using our own implemented `batched_conv2d_multi_in_out` convolution operator is pretty slow, as it uses forloop to comupte the convolution and does not utilize the parallel computation power of a GPU. In that case, we can directly use the gpu-accelerated built-in operator `F.conv2d` after we have verified it outputs the same results as `batched_conv2d_multi_in_out`."
      ]
    },
    {
      "cell_type": "code",
      "execution_count": null,
      "metadata": {
        "id": "2FWaVGBzGTKJ"
      },
      "outputs": [],
      "source": [
        "seed_everything(0)\n",
        "\n",
        "# Define the model, optimizer, and criterion (loss_fn)\n",
        "model = CustomConv(input_channels=3,\n",
        "                   conv_hidden_channels=64,\n",
        "                   conv_out_channels=128,\n",
        "                   input_size=(128, 128),\n",
        "                   dropout_rate1=0.25,\n",
        "                   dropout_rate2=0.5,\n",
        "                   fc_out_channels=128,\n",
        "                   kernel_size=3,\n",
        "                   stride=2,\n",
        "                   padding=1,\n",
        "                   num_classes=len(miniplaces_train.label_dict))\n",
        "\n",
        "# Let's use the built-in optimizer for a full version of SGD optimizer\n",
        "optimizer = torch.optim.SGD(model.parameters(), lr=0.01, momentum=0.9)\n",
        "\n",
        "# For loss function, your implementation and the built-in loss function should\n",
        "# be almost identical.\n",
        "criterion = nn.CrossEntropyLoss()\n",
        "\n",
        "# Train the model\n",
        "train(model,\n",
        "      train_loader,\n",
        "      val_loader,\n",
        "      optimizer,\n",
        "      criterion,\n",
        "      device,\n",
        "      num_epochs=5)"
      ]
    },
    {
      "cell_type": "markdown",
      "metadata": {
        "id": "bIULPs0obKCX"
      },
      "source": [
        "(0 pts) You may notice the accuracy of our own implmentation is lower than using the built-in modules. Think about why (hint: initialization)?"
      ]
    },
    {
      "cell_type": "markdown",
      "metadata": {
        "id": "DyL9t81hiSz3"
      },
      "source": [
        "## Q2 ResNet (50 pts)\n",
        "\n",
        "Now you haved gained some basic experience with CNNs. In this question, you will learn how to build ResNet and how to use pretrained model and apply transfer learning on ResNet18."
      ]
    },
    {
      "cell_type": "markdown",
      "metadata": {
        "id": "nJ3qP4mscXcy"
      },
      "source": [
        "### Q2.1 Build ResNet from Scratch (10 pts)\n",
        "\n",
        "<p align=\"center\">\n",
        "    <img src=\"https://drive.google.com/uc?id=1qmjTRqYAUZfJnjbA_X3sEz9FpISQh94k\" width=\"800\" />\n",
        "</p>\n",
        "\n",
        "In this question, we will build ResNet-18 from Scratch.  First, let's define the basic residual blocks. Each basic residual block contains two 3-by-3 convolution, followed by batch normalization and relu activation. The final output is added throught the residual connection to the original input."
      ]
    },
    {
      "cell_type": "code",
      "execution_count": null,
      "metadata": {
        "id": "o63pVLWlep5B"
      },
      "outputs": [],
      "source": [
        "class ResidualBlock(nn.Module):\n",
        "\n",
        "    def __init__(self, in_channels, out_channels, downsample=False):\n",
        "        '''\n",
        "        Initialize a basic residual block.\n",
        "        Depending on whether downsample is True, there are two types of basic blocks in Resnet 18,\n",
        "        one to downsample the input and the other maintains the same size.\n",
        "        You can use Pytorch's functions.\n",
        "\n",
        "        Input and output shapes of each layer:\n",
        "        1) conv1 (3*3 kernel, no bias): (batch_size, in_channels, H, W) -> (batch_size, out_channels, H, W) if downsample=False\n",
        "           conv1 (3*3 kernel, no bias): (batch_size, in_channels, H, W) -> (batch_size, out_channels, H//2, W//2) if downsample=True, with stride of 2\n",
        "        2) conv2 (3*3 kernel, no bias): (batch_size, out_channels, H, W) -> (batch_size, out_channels, H, W)\n",
        "        3) conv3 (optional) if downsample=True (1*1 kernel, no bias): (batch_size, in_channels, H, W) -> (batch_size, out_channels, H//2, W//2) with stride of 2\n",
        "        '''\n",
        "        super(ResidualBlock, self).__init__()\n",
        "        ################# Your Implementations #################################\n",
        "\n",
        "        ################# End of your Implementations ##########################\n",
        "\n",
        "    def forward(self, x):\n",
        "        \"\"\"\n",
        "        Forward pass of the basic residual block.\n",
        "        The input tensor 'x' should pass through the following layers:\n",
        "        1) conv1: (batch_size, in_channels, H, W) -> (batch_size, out_channels, H, W)\n",
        "           conv1: (batch_size, in_channels, H, W) -> (batch_size, out_channels, H//2, W//2) if downsample=True\n",
        "        2) Apply batch normalization after conv1.\n",
        "        3) Apply relu activation.\n",
        "        4) conv2: (batch_size, out_channels, H, W) -> (batch_size, out_channels, H, W)\n",
        "        5) Apply batch normalization after conv2.\n",
        "        6) (Optional) if downsample=True, conv3: (batch_size, in_channels, H, W) -> (batch_size, out_channels, H//2, W//2) on the original input\n",
        "        7) (Optional) if downsample=True, apply batch normalization after conv3.\n",
        "        8) Add the residual value to the original input\n",
        "        9) Apply relu activation in the end.\n",
        "        \"\"\"\n",
        "        ################# Your Implementations #################################\n",
        "        # TODO: Implement the forward pass of the basic residual block.\n",
        "\n",
        "        ################# End of your Implementations ##########################\n",
        "        return out"
      ]
    },
    {
      "cell_type": "markdown",
      "metadata": {
        "id": "G77Y7DV_phdz"
      },
      "source": [
        "Besides the basic residual blocks, ResNet also groups two residual blocks as a single residual layer or stage, and there are four stages for resnet-18, implement the four layers in the code below following the given instructions."
      ]
    },
    {
      "cell_type": "code",
      "execution_count": null,
      "metadata": {
        "id": "RB-DsECwjVBZ"
      },
      "outputs": [],
      "source": [
        "class ResNet18(nn.Module):\n",
        "\n",
        "    def __init__(self, num_classes=100):\n",
        "        super(ResNet18, self).__init__()\n",
        "        self.in_channels = 64\n",
        "        # Initial convolution\n",
        "        self.conv1 = nn.Conv2d(3,\n",
        "                               64,\n",
        "                               kernel_size=7,\n",
        "                               stride=2,\n",
        "                               padding=3,\n",
        "                               bias=False)\n",
        "        self.bn1 = nn.BatchNorm2d(64)\n",
        "        self.relu = nn.ReLU(inplace=True)\n",
        "        self.maxpool = nn.MaxPool2d(kernel_size=3, stride=2, padding=1)\n",
        "\n",
        "        # define four residual sequential layers, each layer consists of two residual blocks\n",
        "        # if the layer has the same input and output channels, do not apply downsampling\n",
        "        # if the layer has doubled output channels from the input, apply downsample on the first residual blocks with also doubled output channels\n",
        "        # the second residual block would always have the same input and output channels without downsample\n",
        "        # layer1: input channel: 64, output channel: 64\n",
        "        # layer2: input channel: 64, output channel: 128\n",
        "        # layer3: input channel: 128, output channel: 256\n",
        "        # layer4: input channel: 256, output channel: 512\n",
        "        # use nn.Sequential to concatenate the two blocks\n",
        "        ################# Your Implementations #################################\n",
        "\n",
        "        ################# End of your Implementations ##########################\n",
        "        # Average Pooling\n",
        "        self.avgpool = nn.AdaptiveAvgPool2d((1, 1))\n",
        "        # Fully connected layer\n",
        "        self.fc = nn.Linear(512, num_classes)\n",
        "\n",
        "    def forward(self, x):\n",
        "        x = self.conv1(x)\n",
        "        x = self.bn1(x)\n",
        "        x = self.relu(x)\n",
        "        x = self.maxpool(x)\n",
        "\n",
        "        x = self.layer1(x)\n",
        "        x = self.layer2(x)\n",
        "        x = self.layer3(x)\n",
        "        x = self.layer4(x)\n",
        "\n",
        "        x = self.avgpool(x)\n",
        "        x = torch.flatten(x, 1)\n",
        "        x = self.fc(x)\n",
        "\n",
        "        return x\n",
        "\n",
        "\n",
        "# Create a ResNet-18 model\n",
        "model = ResNet18(num_classes=100)"
      ]
    },
    {
      "cell_type": "markdown",
      "metadata": {
        "id": "EDfq-raWqcbv"
      },
      "source": [
        "Let's see how ResNet-18 performs on the TinyPlaces image classification benchmark:"
      ]
    },
    {
      "cell_type": "code",
      "execution_count": null,
      "metadata": {
        "id": "k_LLKTF4obQf"
      },
      "outputs": [],
      "source": [
        "seed_everything(0)\n",
        "\n",
        "# Define the model, optimizer, and criterion (loss_fn)\n",
        "model = ResNet18(num_classes=len(miniplaces_train.label_dict))\n",
        "\n",
        "# Let's use the built-in optimizer for a full version of SGD optimizer\n",
        "optimizer = torch.optim.SGD(model.parameters(), lr=0.01, momentum=0.9)\n",
        "\n",
        "# For loss function, your implementation and the built-in loss function should\n",
        "# be almost identical.\n",
        "criterion = nn.CrossEntropyLoss()\n",
        "\n",
        "# Train the model\n",
        "train(model,\n",
        "      train_loader,\n",
        "      val_loader,\n",
        "      optimizer,\n",
        "      criterion,\n",
        "      device,\n",
        "      num_epochs=5)"
      ]
    },
    {
      "cell_type": "markdown",
      "metadata": {
        "id": "IFuOnoQmsSJC"
      },
      "source": [
        "You should be getting around 20.42% accuracy after the first epoch and 35.57% accuracy after five epochs."
      ]
    },
    {
      "cell_type": "markdown",
      "metadata": {
        "id": "sMGsaW8Bc-9y"
      },
      "source": [
        "### Q2.2 Finetuning ResNet from PyTorch Pretrained Model (15 pts)"
      ]
    },
    {
      "cell_type": "markdown",
      "metadata": {
        "id": "bdO9iKr_uCve"
      },
      "source": [
        "#### Q2.2.1 Loading Pretrained ResNet from PyTorch (5 pts)"
      ]
    },
    {
      "cell_type": "markdown",
      "metadata": {
        "id": "1DcULn_vraWB"
      },
      "source": [
        "Instead of building ResNet-18 from scatch, PyTorch also provides pre-built ResNet models from `torchvision.models` and the corresponding pretrained checkpoints on ImageNet to facilitate computer vision study and research. Fill in the following code to load a pretrained ResNet model from PyTorch with different finetuning modes."
      ]
    },
    {
      "cell_type": "code",
      "execution_count": null,
      "metadata": {
        "id": "exoAuQN5F1rU"
      },
      "outputs": [],
      "source": [
        "import cv2\n",
        "import numpy as np\n",
        "import torch\n",
        "import torch.nn.functional as F\n",
        "import torchvision.models as models\n",
        "from torch import nn\n",
        "\n",
        "\n",
        "class Resnet(nn.Module):\n",
        "\n",
        "    def __init__(self, mode='finetune', num_classes=100):\n",
        "        super().__init__()\n",
        "        \"\"\"\n",
        "        use the resnet18 model from torchvision models. Remember to set pretrained as true\n",
        "\n",
        "        mode has two options:\n",
        "        1) linear: For this model, we want to freeze resnet18 features, then train a linear\n",
        "            classifier which takes the features before resnet.fc (we do not want\n",
        "            the pretrained resnet.fc for 1000 classes). And then write our own FC layer: which takes in the features and\n",
        "            output scores of size 100 (because we have 100 categories).\n",
        "            Because we want to freeze resnet18 features, we have to iterate through parameters()\n",
        "            of our model, and manually set some parameters to requires_grad = False\n",
        "            Or use other methods to freeze the features\n",
        "        2) finetune: Same as 1), except that we we do not need to freeze the features and\n",
        "           can finetune on the pretrained resnet model.\n",
        "        \"\"\"\n",
        "        ################# Your Implementations #################################\n",
        "\n",
        "        ################# End of your Implementations ##########################\n",
        "\n",
        "    def forward(self, x):\n",
        "        ################# Your Implementations #################################\n",
        "\n",
        "        ################# End of your Implementations ##########################\n",
        "        return x\n",
        "\n",
        "    def to(self, device):\n",
        "        return self.resnet.to(device=device)"
      ]
    },
    {
      "cell_type": "markdown",
      "metadata": {
        "id": "RwHkysWXHaAs"
      },
      "source": [
        "#### Q2.2.2 Pretrained ResNet features + Linear Classifier\n",
        "\n",
        "Then we use the “linear” mode in Resnet class to only train a linear classifier based on extracted ResNet features. Remember to freeze the features of ResNet. In this implementation we use linear classifier to do classification on the dataset."
      ]
    },
    {
      "cell_type": "code",
      "execution_count": null,
      "metadata": {
        "id": "tAjaC7YBHaAs"
      },
      "outputs": [],
      "source": [
        "seed_everything(0)\n",
        "\n",
        "# Define the model, optimizer, and criterion (loss_fn)\n",
        "resnet_linear = Resnet(mode='linear',\n",
        "                       num_classes=len(miniplaces_train.label_dict))\n",
        "\n",
        "optimizer = torch.optim.SGD(resnet_linear.parameters(), lr=0.01, momentum=0.9)\n",
        "\n",
        "criterion = nn.CrossEntropyLoss()\n",
        "\n",
        "# Train the model\n",
        "train(resnet_linear,\n",
        "      train_loader,\n",
        "      val_loader,\n",
        "      optimizer,\n",
        "      criterion,\n",
        "      device,\n",
        "      num_epochs=5)"
      ]
    },
    {
      "cell_type": "markdown",
      "metadata": {
        "id": "9okyq0ZHSycm"
      },
      "source": [
        "I'm getting 39.36% accuracy after the first epoch and 39.99% accuracy after five epochs."
      ]
    },
    {
      "cell_type": "markdown",
      "metadata": {
        "id": "2BUZNBNrWuJ5"
      },
      "source": [
        "#### Q2.2.3 Fully finetune with same learning rate\n",
        "Fine-tuning a pre-trained ResNet model on a specific task, such as image classification or object detection, can help improve its performance on that task by adapting the model's learned representations to the particular dataset and task at hand. This is because the pre-trained ResNet has already learned useful feature representations on a large dataset, and fine-tuning allows it to further specialize those representations to the specific task.\n",
        "\n",
        "In this implementation, instead of freezing ResNet features, we want to finetune it. Here we use the \"finetune\" mode in Resnet class, the implementation is the same as the \"linear\" mode, except that we do not need to set requires_grad to False to freeze the features. Here, we are going to finetune the ResNet end-to-end finetune with SGD optimizer. Setting lr to 0.01 and momentum to 0.9."
      ]
    },
    {
      "cell_type": "code",
      "execution_count": null,
      "metadata": {
        "id": "9ioTgrPVmLMf"
      },
      "outputs": [],
      "source": [
        "seed_everything(0)\n",
        "\n",
        "# Define the model, optimizer, and criterion (loss_fn)\n",
        "resnet_finetune1 = Resnet(mode='finetune',\n",
        "                          num_classes=len(miniplaces_train.label_dict))\n",
        "\n",
        "optimizer = torch.optim.SGD(resnet_finetune1.parameters(),\n",
        "                            lr=0.01,\n",
        "                            momentum=0.9)\n",
        "\n",
        "criterion = nn.CrossEntropyLoss()\n",
        "\n",
        "train(resnet_finetune1,\n",
        "      train_loader,\n",
        "      val_loader,\n",
        "      optimizer,\n",
        "      criterion,\n",
        "      device,\n",
        "      num_epochs=5)"
      ]
    },
    {
      "cell_type": "markdown",
      "metadata": {
        "id": "pZONdw1qVu7q"
      },
      "source": [
        "I'm getting 45.16% accuracy after the first epoch and 45.85% accuracy after five epochs."
      ]
    },
    {
      "cell_type": "markdown",
      "metadata": {
        "id": "ktHS7xCMWzEL"
      },
      "source": [
        "#### Q2.2.4 Fully finetune with different learning rates (5 pts)\n",
        "\n",
        "Lower layers in a network typically learn low-level features such as edges and textures that are useful across a wide range of tasks, and therefore may require smaller updates to prevent overfitting. Meanwhile, higher layers may learn more task-specific features that require larger updates to improve performance.\n",
        "\n",
        "Here, we finetune the pretrained ResNet with SGD optimizer with momentum = 0.9. We will need to assign different learning rate to different layers.\n",
        "\n",
        "\n",
        "*   Setting lr to 0.01 for the last fc layer.\n",
        "*   Setting lr to 0.001 for the rest layers.\n",
        "\n",
        "\n"
      ]
    },
    {
      "cell_type": "code",
      "execution_count": null,
      "metadata": {
        "id": "1Rid4RJYmnrG"
      },
      "outputs": [],
      "source": [
        "seed_everything(0)\n",
        "\n",
        "# Define the model, optimizer, and criterion (loss_fn)\n",
        "resnet_finetune2 = Resnet(mode='finetune',\n",
        "                          num_classes=len(miniplaces_train.label_dict))\n",
        "\n",
        "optimizer = None\n",
        "################# Your Implementations #########################################\n",
        "# Hint, read the official document for SGD to check how to set different group of params\n",
        "# https://pytorch.org/docs/stable/generated/torch.optim.SGD.html\n",
        "\n",
        "# Create a list of parameter groups with different learning rates\n",
        "\n",
        "################# End of your Implementations ##################################\n",
        "\n",
        "criterion = nn.CrossEntropyLoss()\n",
        "\n",
        "# Train the model\n",
        "train(resnet_finetune2,\n",
        "      train_loader,\n",
        "      val_loader,\n",
        "      optimizer,\n",
        "      criterion,\n",
        "      device,\n",
        "      num_epochs=5)"
      ]
    },
    {
      "cell_type": "markdown",
      "metadata": {
        "id": "uNhxxYZ-ZCzT"
      },
      "source": [
        "I'm getting 49.49% accuracy after the first epoch and 50.49% accuracy after five epochs."
      ]
    },
    {
      "cell_type": "markdown",
      "metadata": {
        "id": "fbX9qi5NRX6T"
      },
      "source": [
        "#### Q2.2.5 Finetune with a few frozen layers (5 pts)\n",
        "Freezing some layers during fine-tuning can help to prevent overfitting and speed up the training process. When we fine-tune a pre-trained neural network, we typically want to retain the learned feature representations in the lower layers of the network, which are often more general and transferable across different tasks. By freezing these lower layers, we prevent their weights from being updated during fine-tuning, which helps to ensure that the model retains its learned feature representations. This can be particularly important if we have a small amount of data available for the specific task we are fine-tuning for.\n",
        "\n",
        "In this step, you will define a new optimizer to forzen all the parameters in resnet.layer1 and resnet.layer2.\n",
        "\n",
        "Here, we finetune the pretrained ResNet with SGD optimizer with momentum = 0.9. We will need to assign different learning rate to different layers.\n",
        "\n",
        "\n",
        "*   Setting lr to 0.01 for the last fc layer.\n",
        "*   Setting lr to 0 for the resnet.layer1 and resnet.layer2 layers.\n",
        "*   Setting lr to 0.001 for the rest layers."
      ]
    },
    {
      "cell_type": "code",
      "execution_count": null,
      "metadata": {
        "id": "mSSDYIAO7FuE"
      },
      "outputs": [],
      "source": [
        "seed_everything(0)\n",
        "\n",
        "# Define the model, optimizer, and criterion (loss_fn)\n",
        "resnet_finetune3 = Resnet(mode='finetune',\n",
        "                          num_classes=len(miniplaces_train.label_dict))\n",
        "\n",
        "optimizer = None\n",
        "################# Your Implementations #########################################\n",
        "\n",
        "################# End of your Implementations ##################################\n",
        "\n",
        "criterion = nn.CrossEntropyLoss()\n",
        "\n",
        "# Train the model\n",
        "train(resnet_finetune3,\n",
        "      train_loader,\n",
        "      val_loader,\n",
        "      optimizer,\n",
        "      criterion,\n",
        "      device,\n",
        "      num_epochs=5)"
      ]
    },
    {
      "cell_type": "markdown",
      "metadata": {
        "id": "XuT18oG3b-4k"
      },
      "source": [
        "I'm getting 49.18% accuracy after the first epoch and 49.87% accuracy after five epochs."
      ]
    },
    {
      "cell_type": "markdown",
      "metadata": {
        "id": "4aPaKWXRdRPG"
      },
      "source": [
        "### Q2.3 Visualization of ResNet (10 pts)\n",
        "The attention maps in Convolutional Neural Networks (CNNs) are used to visualize the regions of an input image that the model is paying attention to when making predictions. These attention maps convey strong messages about which features the CNNs are looking at.  \n",
        "\n",
        "<p align=\"center\">\n",
        "    <img src=\"https://drive.google.com/uc?id=1HGv3yE-UaCIw4AnyKu4GUolapU7XV9Cd\" width=\"800\" />\n",
        "</p>\n",
        "\n",
        "\n",
        "Now we will implement Prof. Zhou's famous paper: \"Learning Deep Features for Discriminative Localization\", in which he proposed class activation mapping (CAM). The main equation is:\n",
        "$$S_{c}=\\sum_{k} w_{k}^{c} \\sum_{x, y} f_{k}(x, y)=\\sum_{x, y} \\sum_{k} w_{k}^{c} f_{k}(x, y)$$\n",
        "where $f_{k}(x, y)$ represents the activation of unit k in the last convolutional layer, which is layer4 in resnet18.\n",
        "\n",
        "For more detailed implementation, please refer to the github repo: https://github.com/zhoubolei/CAM\n",
        "\n",
        "Please implement the CAM function. Specifically, given convolutional features, weights and a class index, CAM will output the reasons for classifying the image to the class, thus making CNN interpretable."
      ]
    },
    {
      "cell_type": "code",
      "execution_count": null,
      "metadata": {
        "id": "eE62mOwFEVhn"
      },
      "outputs": [],
      "source": [
        "def CAM(feature_conv, weight_softmax, class_idx):\n",
        "    \"\"\"\n",
        "    Implement CAM here\n",
        "    refer to: https://github.com/zhoubolei/CAM\n",
        "    \"\"\"\n",
        "    output_cam = []\n",
        "    ################# Your Implementations #####################################\n",
        "\n",
        "    ################# End of your Implementations ##############################\n",
        "    return output_cam"
      ]
    },
    {
      "cell_type": "code",
      "execution_count": null,
      "metadata": {
        "id": "FctjCANGDiw8"
      },
      "outputs": [],
      "source": [
        "import matplotlib.pyplot as plt\n",
        "\n",
        "seed_everything(0)\n",
        "resnet_finetune3.eval()\n",
        "\n",
        "finalconv_name = 'layer4'\n",
        "# hook the feature extractor\n",
        "features_blobs = []\n",
        "\n",
        "\n",
        "def hook_feature(module, input, output):\n",
        "    features_blobs.append(output.data.cpu().numpy())\n",
        "\n",
        "\n",
        "resnet_finetune3.resnet._modules.get(finalconv_name).register_forward_hook(\n",
        "    hook_feature)\n",
        "\n",
        "params = list(resnet_finetune3.parameters())\n",
        "weight_softmax = np.squeeze(params[-2].data.cpu().numpy())\n",
        "\n",
        "classes = []\n",
        "for i in range(100):\n",
        "    classes.append(str(i))\n",
        "\n",
        "val_sub_dataset = torch.utils.data.Subset(\n",
        "    miniplaces_val, np.random.choice(np.arange(len(miniplaces_val)), 10,\n",
        "                                     False))\n",
        "val_sub_loader = torch.utils.data.DataLoader(val_sub_dataset,\n",
        "                                             batch_size=1,\n",
        "                                             num_workers=num_workers,\n",
        "                                             shuffle=False)\n",
        "\n",
        "figure = plt.figure(figsize=(24, 6))\n",
        "cols, rows = 10, 2\n",
        "counter = 0\n",
        "\n",
        "for i, data in enumerate(tqdm((val_sub_loader))):\n",
        "    features_blobs = []\n",
        "    img, label = data\n",
        "    img = img.cuda()\n",
        "\n",
        "    logit = resnet_finetune3(img)\n",
        "\n",
        "    h_x = F.softmax(logit, dim=1).data.squeeze()\n",
        "    probs, idx = h_x.sort(0, True)\n",
        "    probs = probs.cpu().numpy()\n",
        "    idx = idx.cpu().numpy()\n",
        "\n",
        "    # generate class activation mapping for the top1 prediction\n",
        "    CAMs = CAM(features_blobs[0], weight_softmax, [idx[0]])\n",
        "\n",
        "    img = img.squeeze().permute(1, 2, 0)\n",
        "    height, width, _ = img.shape\n",
        "    img = img.cpu() * torch.tensor([0.229, 0.224, 0.225]) + torch.tensor(\n",
        "        [0.485, 0.456, 0.406])\n",
        "    img = img.cpu().numpy()\n",
        "    heatmap = cv2.applyColorMap(cv2.resize(CAMs[0], (width, height)),\n",
        "                                cv2.COLORMAP_JET)\n",
        "    heatmap = heatmap / 255\n",
        "    heatmap = heatmap[..., ::-1]  # reverse the color from BGR to RGB\n",
        "    result = heatmap * 0.7 + img * 0.3\n",
        "\n",
        "    figure.add_subplot(rows, cols, i + 1)\n",
        "    plt.axis(\"off\")\n",
        "    plt.title(\n",
        "        f\"gt: {miniplaces_val.label_dict[label.item()]}\\n prob: {h_x[label.item()].item()*100:.2f}\"\n",
        "    )\n",
        "    plt.imshow(img, cmap=\"gray\")\n",
        "\n",
        "    figure.add_subplot(rows, cols, i + 11)\n",
        "    plt.axis(\"off\")\n",
        "    plt.title(\n",
        "        f\"pred: {miniplaces_val.label_dict[idx[0]]}\\n prob: {probs[0]*100:.2f}\"\n",
        "    )\n",
        "\n",
        "    plt.imshow(result, cmap=\"gray\")\n",
        "    counter += 1\n",
        "\n",
        "plt.show()"
      ]
    },
    {
      "cell_type": "markdown",
      "metadata": {
        "id": "RFwk2hw5dYTH"
      },
      "source": [
        "### Q2.4 Answer the following questions (15 pts)"
      ]
    },
    {
      "cell_type": "markdown",
      "metadata": {
        "id": "qYGMVZzzmOv5"
      },
      "source": [
        "a: Compare the results of using MLPs in Q3 of Assignment 1, FastConv in Q1, and ResNet in Q2. In 2-3 sentences, explain the differences in these model architectures and how such differences leads to the performance gap between these models. (5 pts)"
      ]
    },
    {
      "cell_type": "markdown",
      "metadata": {
        "id": "hG5zbXyZmPcD"
      },
      "source": [
        "(Double click to edit)\n",
        "\n",
        "Your Answer:\n",
        "\n",
        "---"
      ]
    },
    {
      "cell_type": "markdown",
      "metadata": {
        "id": "5ov1X5vBTU2s"
      },
      "source": [
        "b: Compare the results of Q2.1, Q2.2.2, Q2.2.3, Q2.2.4, and Q2.2.5? Why finetuning performs better than training from scratch on ResNet-18? Which finetuning techniques gives you the best accuracy? Which finetuning techniques gives you the worst accuracy? Use one sentence to explain the accuracy ordering for each finetuning method. (5 pts)"
      ]
    },
    {
      "cell_type": "markdown",
      "metadata": {
        "id": "6__vxY1xf9re"
      },
      "source": [
        "(Double click to edit)\n",
        "\n",
        "Your Answer:\n",
        "\n",
        "---"
      ]
    },
    {
      "cell_type": "markdown",
      "metadata": {},
      "source": [
        "c: In 2-3 sentences, describe what you observe from the class activation mapping in Q2.3, where is the CNN \"looking at\" in those images? Give 1-2 examples from the visualizations. (5 pts)"
      ]
    },
    {
      "cell_type": "markdown",
      "metadata": {},
      "source": [
        "(Double click to edit)\n",
        "\n",
        "Your Answer:\n",
        "\n",
        "---"
      ]
    },
    {
      "cell_type": "markdown",
      "metadata": {
        "id": "OLNVqBYnKBWQ"
      },
      "source": [
        "## Q3: Your own model (20 pts) + 10 pts extra credit\n",
        "\n",
        "In this question, you will train your own CNN on MiniPlaces. You can base your model on the pretrained `ResNet-18` weights, and modify the learning rate, optimizer, and other parameters during finetuning. You may also want to implement other training techniques such as data augmentation. But feel free to try other CNN architectures. You should write this model in the following code cells.\n",
        "\n",
        "You will select the best model using the validation set, and then evaluate it on the test set.  You should create a file named \"test_UID.json\", containing \"{id: predicted_label}\" pairs. You may also try model assembly or test-time augmentation to further improve the performance.\n",
        "\n",
        "You may also need to modify the previous MiniPlaces dataset to also load test images from `{root_dir}/images/test`.\n",
        "\n",
        "We will hold a leaderboard of the test accuracy on [Kaggle](https://www.kaggle.com/t/9cb9ae990d5f4576b5fb207ee9bf39dc). See the instructions on the website for submission to the leaderboard. The **top 20%** of students can receive a bonus of 10 points. Don't worry, you shall receive a full credit for this question as long as your model has better accuracy than the finetuning baseline.\n",
        "\n",
        "Feel free to organize your code in different ways. In this question, you do not have to follow the `#Your Implementations#` comments. Below is just an example of one possible organization for your code.\n",
        "\n",
        "**Your code should be trainable on Colab**, we do not expect you to use additional resources to train your model, and your code should give similar test accuracies to the ones you posted on the leaderboard."
      ]
    },
    {
      "cell_type": "code",
      "execution_count": null,
      "metadata": {
        "id": "ztTHqlCkJ4zw"
      },
      "outputs": [],
      "source": [
        "# Define your model."
      ]
    },
    {
      "cell_type": "code",
      "execution_count": null,
      "metadata": {
        "id": "3rEuqAaiJXY9"
      },
      "outputs": [],
      "source": [
        "# Build train/val/test datasets and data loaders using the modules we built before.\n",
        "import os\n",
        "\n",
        "from torch.utils.data import DataLoader, Dataset\n",
        "\n",
        "\n",
        "class MiniPlacesTest(Dataset):\n",
        "\n",
        "    def __init__(self, root_dir, transform):\n",
        "        \"\"\"\n",
        "        Initialize the MiniPlaces test dataset with the root directory for the images,\n",
        "        an optional data transformation,\n",
        "\n",
        "\n",
        "        Args:\n",
        "            root_dir (str): Root directory for the MiniPlaces images.\n",
        "            transform (callable, optional): Optional data transformation to apply to the images.\n",
        "        \"\"\"\n",
        "        self.root_dir = root_dir\n",
        "        self.transform = transform\n",
        "        self.filenames = []\n",
        "        self.ids = []\n",
        "\n",
        "        # You should read the test images from '${root_dir}/images/test' dir and save their filepaths and ids\n",
        "        # For instance: the id of image 'test/00000001.jpg' should be '00000001' in string\n",
        "        ################# Your Implementations #################################\n",
        "\n",
        "        ################# End of your Implementations ##########################\n",
        "\n",
        "    def __len__(self):\n",
        "        \"\"\"\n",
        "        Return the number of images in the dataset.\n",
        "\n",
        "        Returns:\n",
        "            int: Number of images in the dataset.\n",
        "        \"\"\"\n",
        "        dataset_len = 0\n",
        "        ################# Your Implementations #################################\n",
        "        # Return the number of images in the dataset\n",
        "\n",
        "        ################# End of your Implementations ##########################\n",
        "        return dataset_len\n",
        "\n",
        "    def __getitem__(self, idx):\n",
        "        \"\"\"\n",
        "        Return a single image and its corresponding id when given an index.\n",
        "\n",
        "        Args:\n",
        "            idx (int): Index of the image to retrieve.\n",
        "\n",
        "        Returns:\n",
        "            tuple: Tuple containing the image and its id.\n",
        "        \"\"\"\n",
        "        ################# Your Implementations #################################\n",
        "        # Load and preprocess image using self.root_dir,\n",
        "        # self.filenames[idx], and self.transform (if specified)\n",
        "\n",
        "        ################# End of your Implementations ##########################\n",
        "        return image, id\n",
        "\n",
        "\n",
        "data_root = os.path.join(root_dir, 'data')\n",
        "# Create MiniPlaces test dataset object\n",
        "miniplaces_test = MiniPlacesTest(data_root, transform=data_transform)\n",
        "\n",
        "# Create DataLoader for test set\n",
        "test_loader = DataLoader(miniplaces_test,\n",
        "                         batch_size=batch_size,\n",
        "                         num_workers=num_workers,\n",
        "                         shuffle=False)"
      ]
    },
    {
      "cell_type": "code",
      "execution_count": null,
      "metadata": {
        "id": "LgVFPB_L4q8P"
      },
      "outputs": [],
      "source": [
        "# Train on the training set, validate on the validation set.\n",
        "# Search hyper-parameters to find the best model on the validation set."
      ]
    },
    {
      "cell_type": "code",
      "execution_count": null,
      "metadata": {
        "id": "2w_D5j7ziGMk"
      },
      "outputs": [],
      "source": [
        "# Generate test-set results.\n",
        "\n",
        "\n",
        "def test(model, test_loader):\n",
        "    \"\"\"\n",
        "    Evaluate the MLP classifier on the test set.\n",
        "\n",
        "    Args:\n",
        "        model (MLP): MLP classifier to evaluate.\n",
        "        test_loader (torch.utils.data.DataLoader): Data loader for the test set.\n",
        "        criterion (callable): Loss function to use for evaluation.\n",
        "        device (torch.device): Device to use for evaluation.\n",
        "\n",
        "    Returns:\n",
        "        out_dict: prediction result on the test set\n",
        "    \"\"\"\n",
        "    model.eval()  # Set model to evaluation mode\n",
        "    out_dict = {}\n",
        "\n",
        "    with torch.no_grad():\n",
        "        for inputs, ids in test_loader:\n",
        "            ################# Your Implementations #############################\n",
        "            # similar to the evaluate function\n",
        "            # first compute the output logits and then get the predicted class with maximum probability\n",
        "            # save the id and the prediction to out_dict\n",
        "\n",
        "\n",
        "\n",
        "            ################# End of your Implementations ######################\n",
        "    return out_dict"
      ]
    },
    {
      "cell_type": "code",
      "execution_count": null,
      "metadata": {
        "colab": {
          "base_uri": "https://localhost:8080/"
        },
        "id": "Ej0gPuo4NGzp",
        "outputId": "89315f49-6fa7-4cdc-cc07-60e244fdd32f"
      },
      "outputs": [],
      "source": [
        "# Convert the test-set results dictionary to a CSV file:\n",
        "\n",
        "import csv\n",
        "\n",
        "test_output = test(resnet_finetune2, test_loader)\n",
        "assert len(test_output) == 10000\n",
        "# update your csv file name for submissioin\n",
        "csv_name = \"test.csv\"\n",
        "\n",
        "# now we will open a file for writing\n",
        "data_file = open(os.path.join(root_dir, csv_name), 'w')\n",
        "\n",
        "# create the csv writer object\n",
        "csv_writer = csv.writer(data_file)\n",
        "\n",
        "# Counter variable used for writing\n",
        "# headers to the CSV file\n",
        "count = 0\n",
        "\n",
        "header = ['Id', 'Category']\n",
        "\n",
        "for key, value in test_output.items():\n",
        "    if count == 0:\n",
        "        # Writing headers of CSV file\n",
        "        header = header\n",
        "        csv_writer.writerow(header)\n",
        "        count += 1\n",
        "\n",
        "    # Writing data of CSV file\n",
        "    csv_writer.writerow([key, str(value)])\n",
        "\n",
        "data_file.close()\n",
        "print(\"succesfully saved the test csv file at: \" +\n",
        "      os.path.join(root_dir, csv_name))\n",
        "\n",
        "from google.colab import files\n",
        "\n",
        "files.download(os.path.join(root_dir, csv_name))"
      ]
    },
    {
      "cell_type": "markdown",
      "metadata": {},
      "source": [
        "Please report your test accuracy on the public leaderboard:"
      ]
    },
    {
      "cell_type": "markdown",
      "metadata": {},
      "source": [
        "(Double click to edit)\n",
        "\n",
        "Your Answer:\n",
        "\n",
        "---"
      ]
    },
    {
      "cell_type": "markdown",
      "metadata": {
        "id": "1srly4oaCM_C"
      },
      "source": [
        "In one paragraph, shortly summarize your method and your improvement and modifications made upon the baseline:"
      ]
    },
    {
      "cell_type": "markdown",
      "metadata": {
        "id": "SgWJPYEkCZAz"
      },
      "source": [
        "(Double click to edit)\n",
        "\n",
        "Your Answer:\n",
        "\n",
        "---"
      ]
    }
  ],
  "metadata": {
    "accelerator": "GPU",
    "colab": {
      "gpuType": "T4",
      "provenance": []
    },
    "kernelspec": {
      "display_name": "Python 3",
      "name": "python3"
    },
    "language_info": {
      "codemirror_mode": {
        "name": "ipython",
        "version": 3
      },
      "file_extension": ".py",
      "mimetype": "text/x-python",
      "name": "python",
      "nbconvert_exporter": "python",
      "pygments_lexer": "ipython3",
      "version": "3.10.13"
    }
  },
  "nbformat": 4,
  "nbformat_minor": 0
}
